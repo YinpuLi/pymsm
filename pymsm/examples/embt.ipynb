{
 "cells": [
  {
   "cell_type": "code",
   "execution_count": 1,
   "metadata": {},
   "outputs": [],
   "source": [
    "import numpy as np\n",
    "import pandas as pd\n",
    "from pandas import Series\n",
    "from pymsm.multi_state_competing_risks_model import PathObject, MultiStateModel\n",
    "from pymsm.datasets import prep_ebmt_long\n",
    "from pymsm.plotting import stackplot\n",
    "\n",
    "\n",
    "%load_ext autoreload\n",
    "%autoreload 2"
   ]
  },
  {
   "cell_type": "code",
   "execution_count": 2,
   "metadata": {},
   "outputs": [
    {
     "data": {
      "text/html": [
       "<div>\n",
       "<style scoped>\n",
       "    .dataframe tbody tr th:only-of-type {\n",
       "        vertical-align: middle;\n",
       "    }\n",
       "\n",
       "    .dataframe tbody tr th {\n",
       "        vertical-align: top;\n",
       "    }\n",
       "\n",
       "    .dataframe thead th {\n",
       "        text-align: right;\n",
       "    }\n",
       "</style>\n",
       "<table border=\"1\" class=\"dataframe\">\n",
       "  <thead>\n",
       "    <tr style=\"text-align: right;\">\n",
       "      <th></th>\n",
       "      <th>sample_id</th>\n",
       "      <th>origin_state</th>\n",
       "      <th>target_state</th>\n",
       "      <th>time_entry_to_origin</th>\n",
       "      <th>time_transition_to_target</th>\n",
       "      <th>match_no gender mismatch</th>\n",
       "      <th>proph_yes</th>\n",
       "      <th>year_1990-1994</th>\n",
       "      <th>year_1995-1998</th>\n",
       "      <th>agecl_&lt;=20</th>\n",
       "      <th>agecl_&gt;40</th>\n",
       "    </tr>\n",
       "  </thead>\n",
       "  <tbody>\n",
       "    <tr>\n",
       "      <th>0</th>\n",
       "      <td>1</td>\n",
       "      <td>1</td>\n",
       "      <td>2</td>\n",
       "      <td>0.0</td>\n",
       "      <td>22.0</td>\n",
       "      <td>1</td>\n",
       "      <td>0</td>\n",
       "      <td>0</td>\n",
       "      <td>1</td>\n",
       "      <td>0</td>\n",
       "      <td>0</td>\n",
       "    </tr>\n",
       "    <tr>\n",
       "      <th>1</th>\n",
       "      <td>1</td>\n",
       "      <td>2</td>\n",
       "      <td>0</td>\n",
       "      <td>22.0</td>\n",
       "      <td>995.0</td>\n",
       "      <td>1</td>\n",
       "      <td>0</td>\n",
       "      <td>0</td>\n",
       "      <td>1</td>\n",
       "      <td>0</td>\n",
       "      <td>0</td>\n",
       "    </tr>\n",
       "    <tr>\n",
       "      <th>2</th>\n",
       "      <td>2</td>\n",
       "      <td>1</td>\n",
       "      <td>3</td>\n",
       "      <td>0.0</td>\n",
       "      <td>12.0</td>\n",
       "      <td>1</td>\n",
       "      <td>0</td>\n",
       "      <td>0</td>\n",
       "      <td>1</td>\n",
       "      <td>0</td>\n",
       "      <td>0</td>\n",
       "    </tr>\n",
       "    <tr>\n",
       "      <th>3</th>\n",
       "      <td>2</td>\n",
       "      <td>3</td>\n",
       "      <td>4</td>\n",
       "      <td>12.0</td>\n",
       "      <td>29.0</td>\n",
       "      <td>1</td>\n",
       "      <td>0</td>\n",
       "      <td>0</td>\n",
       "      <td>1</td>\n",
       "      <td>0</td>\n",
       "      <td>0</td>\n",
       "    </tr>\n",
       "    <tr>\n",
       "      <th>4</th>\n",
       "      <td>2</td>\n",
       "      <td>4</td>\n",
       "      <td>5</td>\n",
       "      <td>29.0</td>\n",
       "      <td>422.0</td>\n",
       "      <td>1</td>\n",
       "      <td>0</td>\n",
       "      <td>0</td>\n",
       "      <td>1</td>\n",
       "      <td>0</td>\n",
       "      <td>0</td>\n",
       "    </tr>\n",
       "  </tbody>\n",
       "</table>\n",
       "</div>"
      ],
      "text/plain": [
       "   sample_id  origin_state  target_state  time_entry_to_origin  \\\n",
       "0          1             1             2                   0.0   \n",
       "1          1             2             0                  22.0   \n",
       "2          2             1             3                   0.0   \n",
       "3          2             3             4                  12.0   \n",
       "4          2             4             5                  29.0   \n",
       "\n",
       "   time_transition_to_target  match_no gender mismatch  proph_yes  \\\n",
       "0                       22.0                         1          0   \n",
       "1                      995.0                         1          0   \n",
       "2                       12.0                         1          0   \n",
       "3                       29.0                         1          0   \n",
       "4                      422.0                         1          0   \n",
       "\n",
       "   year_1990-1994  year_1995-1998  agecl_<=20  agecl_>40  \n",
       "0               0               1           0          0  \n",
       "1               0               1           0          0  \n",
       "2               0               1           0          0  \n",
       "3               0               1           0          0  \n",
       "4               0               1           0          0  "
      ]
     },
     "execution_count": 2,
     "metadata": {},
     "output_type": "execute_result"
    }
   ],
   "source": [
    "competing_risk_dataset, covariate_cols = prep_ebmt_long()\n",
    "competing_risk_dataset.head()"
   ]
  },
  {
   "cell_type": "markdown",
   "metadata": {},
   "source": [
    "# Peak at some transitions"
   ]
  },
  {
   "cell_type": "code",
   "execution_count": 3,
   "metadata": {},
   "outputs": [
    {
     "name": "stderr",
     "output_type": "stream",
     "text": [
      "/home/hagair/anaconda3/envs/pymsm/lib/python3.9/site-packages/lifelines/fitters/aalen_johansen_fitter.py:111: Warning: Tied event times were detected. The Aalen-Johansen estimator cannot handle tied event times.\n",
      "                To resolve ties, data is randomly jittered.\n",
      "  warnings.warn(\n",
      "/home/hagair/anaconda3/envs/pymsm/lib/python3.9/site-packages/lifelines/fitters/__init__.py:204: ApproximationWarning: Approximating using linear interpolation`.\n",
      "\n",
      "  warnings.warn(\"Approximating using linear interpolation`.\\n\", exceptions.ApproximationWarning)\n"
     ]
    },
    {
     "data": {
      "image/png": "[encoded data removed]",
      "text/plain": [
       "<Figure size 432x288 with 1 Axes>"
      ]
     },
     "metadata": {
      "needs_background": "light"
     },
     "output_type": "display_data"
    }
   ],
   "source": [
    "stackplot_data = competing_risk_dataset[competing_risk_dataset[\"origin_state\"]==1]\n",
    "\n",
    "stackplot(data=stackplot_data, duration_col='time_transition_to_target', event_col='target_state', order_top=[2,3], order_bottom=[5,6])"
   ]
  },
  {
   "cell_type": "code",
   "execution_count": 4,
   "metadata": {},
   "outputs": [
    {
     "name": "stderr",
     "output_type": "stream",
     "text": [
      "/home/hagair/anaconda3/envs/pymsm/lib/python3.9/site-packages/lifelines/fitters/__init__.py:204: ApproximationWarning: Approximating using linear interpolation`.\n",
      "\n",
      "  warnings.warn(\"Approximating using linear interpolation`.\\n\", exceptions.ApproximationWarning)\n"
     ]
    },
    {
     "data": {
      "image/png": "[encoded data removed]",
      "text/plain": [
       "<Figure size 432x288 with 1 Axes>"
      ]
     },
     "metadata": {
      "needs_background": "light"
     },
     "output_type": "display_data"
    }
   ],
   "source": [
    "stackplot_data = competing_risk_dataset[competing_risk_dataset[\"origin_state\"]==2].sample(100)\n",
    "\n",
    "stackplot(data=stackplot_data, duration_col='time_transition_to_target', event_col='target_state', order_top=[4], order_bottom=[5,6])"
   ]
  },
  {
   "cell_type": "markdown",
   "metadata": {},
   "source": [
    "# Fit MSM"
   ]
  },
  {
   "cell_type": "code",
   "execution_count": 6,
   "metadata": {},
   "outputs": [
    {
     "name": "stdout",
     "output_type": "stream",
     "text": [
      "Fitting Model at State: 1\n",
      ">>> Fitting Transition to State: 2, n events: 785\n",
      ">>> Fitting Transition to State: 3, n events: 907\n",
      ">>> Fitting Transition to State: 5, n events: 95\n",
      ">>> Fitting Transition to State: 6, n events: 160\n",
      "Fitting Model at State: 2\n",
      ">>> Fitting Transition to State: 5, n events: 112\n",
      ">>> Fitting Transition to State: 6, n events: 39\n",
      ">>> Fitting Transition to State: 4, n events: 227\n",
      "Fitting Model at State: 3\n",
      ">>> Fitting Transition to State: 4, n events: 433\n",
      ">>> Fitting Transition to State: 6, n events: 197\n",
      ">>> Fitting Transition to State: 5, n events: 56\n",
      "Fitting Model at State: 4\n",
      ">>> Fitting Transition to State: 5, n events: 107\n",
      ">>> Fitting Transition to State: 6, n events: 137\n"
     ]
    }
   ],
   "source": [
    "def default_update_covariates_function(\n",
    "    covariates_entering_origin_state,\n",
    "    origin_state=None,\n",
    "    target_state=None,\n",
    "    time_at_origin=None,\n",
    "    abs_time_entry_to_target_state=None,\n",
    "):\n",
    "    return covariates_entering_origin_state\n",
    "\n",
    "\n",
    "terminal_states = [5, 6]\n",
    "\n",
    "\n",
    "multi_state_model = MultiStateModel(\n",
    "    competing_risk_dataset,\n",
    "    terminal_states,\n",
    "    default_update_covariates_function,\n",
    "    covariate_cols,\n",
    "    competing_risk_data_format=True,\n",
    ")\n",
    "\n",
    "\n",
    "multi_state_model.fit()\n"
   ]
  }
 ],
 "metadata": {
  "interpreter": {
   "hash": "75245bec35210ab08e7172c93719ec93a5ec38f67703239b6585339df04b4818"
  },
  "kernelspec": {
   "display_name": "Python 3",
   "language": "python",
   "name": "python3"
  },
  "language_info": {
   "codemirror_mode": {
    "name": "ipython",
    "version": 3
   },
   "file_extension": ".py",
   "mimetype": "text/x-python",
   "name": "python",
   "nbconvert_exporter": "python",
   "pygments_lexer": "ipython3",
   "version": "3.7.7"
  }
 },
 "nbformat": 4,
 "nbformat_minor": 2
}
