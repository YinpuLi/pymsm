{
 "cells": [
  {
   "cell_type": "code",
   "execution_count": 1,
   "metadata": {},
   "outputs": [],
   "source": [
    "import numpy as np"
   ]
  },
  {
   "cell_type": "code",
   "execution_count": null,
   "metadata": {},
   "outputs": [],
   "source": [
    "BETA = 1  # 1/lambda for exponential dist\n",
    "\n",
    "\n",
    "def transition_from_state_1():\n",
    "    p1 = 0\n",
    "    t1 = None\n",
    "    p2 = 0.5\n",
    "    t2 = np.random.exponential(beta=BETA)\n",
    "    p3 = 0.5\n",
    "    t3 = 1\n",
    "    return ([p1, p2, p3], [t1, t2, t3])\n",
    "\n",
    "\n",
    "def transition_from_state_2():\n",
    "    p1 = 0.5\n",
    "    t1 = np.random.exponential(beta=beta)\n",
    "    p2 = 0\n",
    "    t2 = None\n",
    "    p3 = 0.5\n",
    "    t3 = 1\n",
    "    return ([p1, p2, p3], [t1, t2, t3])\n",
    "\n",
    "\n",
    "def transition_from_state_3():\n",
    "    p1 = 0\n",
    "    t1 = None\n",
    "    p2 = 0\n",
    "    t2 = None\n",
    "    p3 = 1\n",
    "    t3 = 0\n",
    "    return([p1,p2,p3], [t1,t2,t3])"
   ]
  },
  {
   "cell_type": "code",
   "execution_count": 9,
   "metadata": {},
   "outputs": [
    {
     "data": {
      "text/plain": [
       "array([0, 1, 2, 3, 6, 7, 8])"
      ]
     },
     "execution_count": 9,
     "metadata": {},
     "output_type": "execute_result"
    }
   ],
   "source": [
    "a = [0,0,1,1,2,3,4,4,4,5]\n",
    "\n",
    "\n",
    "_, inverse, count = np.unique(a,\n",
    "                                 return_inverse=True,\n",
    "                                 return_counts=True,\n",
    "                                 axis=0)\n",
    "non_unique_idx = np.where(count[inverse] > 1)[0] #find all indices where counts > 1\n",
    "non_unique_idx"
   ]
  },
  {
   "cell_type": "code",
   "execution_count": 10,
   "metadata": {},
   "outputs": [
    {
     "data": {
      "text/plain": [
       "array([0, 0, 0, 0, 0, 0, 0])"
      ]
     },
     "execution_count": 10,
     "metadata": {},
     "output_type": "execute_result"
    }
   ],
   "source": [
    "((non_unique_idx) & [0])"
   ]
  },
  {
   "cell_type": "code",
   "execution_count": null,
   "metadata": {},
   "outputs": [],
   "source": []
  }
 ],
 "metadata": {
  "interpreter": {
   "hash": "75245bec35210ab08e7172c93719ec93a5ec38f67703239b6585339df04b4818"
  },
  "kernelspec": {
   "display_name": "Python 3.9.7 64-bit ('pymsm': conda)",
   "language": "python",
   "name": "python3"
  },
  "language_info": {
   "codemirror_mode": {
    "name": "ipython",
    "version": 3
   },
   "file_extension": ".py",
   "mimetype": "text/x-python",
   "name": "python",
   "nbconvert_exporter": "python",
   "pygments_lexer": "ipython3",
   "version": "3.9.7"
  },
  "orig_nbformat": 4
 },
 "nbformat": 4,
 "nbformat_minor": 2
}
