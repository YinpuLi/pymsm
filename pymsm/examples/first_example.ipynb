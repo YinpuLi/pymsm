{
 "cells": [
  {
   "cell_type": "markdown",
   "metadata": {},
   "source": [
    "# Multi-State Model first example"
   ]
  },
  {
   "cell_type": "markdown",
   "metadata": {},
   "source": [
    "## In this notebook"
   ]
  },
  {
   "cell_type": "markdown",
   "metadata": {},
   "source": [
    "This notebook provides a simple setting which illustrates basic usage of the model."
   ]
  },
  {
   "cell_type": "markdown",
   "metadata": {},
   "source": [
    "## Typical settings"
   ]
  },
  {
   "cell_type": "markdown",
   "metadata": {},
   "source": [
    "In a typical setting of modelling patient illness trajectories, there are multiple sources of complexity:\n",
    "\n",
    "1. There could be many states (mild, severe, recovered, released from hospital, death etc.)\n",
    "2. The probability of each transition and the duration of the stay in each state depend on patient covariates.\n",
    "3. Patient covariates can change over time, possibly in a manner which depends on the states visited.\n",
    "\n",
    "In order to introduce the multi-state-model we shall use a much simpler setting where our data arrives from a simple 3 state model and covariates do not change over time or affect the probabilities of transitions between states."
   ]
  },
  {
   "cell_type": "markdown",
   "metadata": {},
   "source": [
    "## A Simple Multi-State Setting"
   ]
  },
  {
   "cell_type": "markdown",
   "metadata": {},
   "source": [
    "Patients start at state 1, state 3 shall be a terminal state and states 1,2 shall be identical in the sense that from both:\n",
    "\n",
    "1. With probability 1/2 you transition to state 3 within 1 day.\n",
    "2. With probability 1/2 you transition to state 2 or 1 (depending on the present state), within t∼exp(λ)\n",
    "\n",
    "For this setting, one can show that the expected time until reaching a terminal state is 1+1λ (see proof at the end of this notebook.)"
   ]
  },
  {
   "cell_type": "markdown",
   "metadata": {},
   "source": [
    "## The Dataset Structure"
   ]
  },
  {
   "cell_type": "markdown",
   "metadata": {},
   "source": [
    "Let’s load the dataset, which was constructed based on the graph above"
   ]
  },
  {
   "cell_type": "code",
   "execution_count": 1,
   "metadata": {},
   "outputs": [
    {
     "name": "stdout",
     "output_type": "stream",
     "text": [
      "dataset type: <class 'list'>\n",
      "elemnets type: <class 'pymsm.multi_state_competing_risks_model.PathObject'>\n"
     ]
    }
   ],
   "source": [
    "from pymsm.examples.first_example_utils import create_toy_setting_dataset\n",
    "dataset = create_toy_setting_dataset(lambda_param=2)\n",
    "print('dataset type: {}'.format(type(dataset)))\n",
    "print('elemnets type: {}'.format(type(dataset[0])))"
   ]
  },
  {
   "cell_type": "markdown",
   "metadata": {},
   "source": [
    "The dataset is a list of elements from class PathObject. Each PathObject in the list corresponds to a single sample’s (i.e “patient’s”) observed path. Let’s look one such object in detail"
   ]
  },
  {
   "cell_type": "code",
   "execution_count": 2,
   "metadata": {},
   "outputs": [],
   "source": [
    "# TODO -add printing function to PathOjbect ?"
   ]
  },
  {
   "cell_type": "markdown",
   "metadata": {},
   "source": [
    "We see the following attributes:\n",
    "\n",
    "1. covariates: These are the sample’s covariates. In this case they were randomally generated and do not affect the state transitions, but for a patient this could be a numerical vector with entries such as:\n",
    "    “age in years”\n",
    "    “is male”\n",
    "    “number of days that have passed since hospitalization”\n",
    "    etc..\n",
    "2. states: These are the observed states the sample visited, encoded as positive integers. Here we can see the back and forth between states 1 and 2, ending with the only terminal state (state 3).\n",
    "3. time_at_each_state: These are the observed times spent at each state.\n",
    "4. id: (optional) a unique identifier of the patient.\n",
    "\n",
    "Note: if the last state is a terminal state, then the vector of times should be shorter than the vector of states by 1. Conversely, if the last state is not a terminal state, then the length of the vector of times should be the same as that of the states. In such a case, the sample is inferred to be right censored."
   ]
  },
  {
   "cell_type": "markdown",
   "metadata": {},
   "source": [
    "## Updating Covariates Over Time"
   ]
  },
  {
   "cell_type": "markdown",
   "metadata": {},
   "source": [
    "In order to update the patient covariates over time, we need to define a state-transition function.\n",
    "In this simple case, the covariates do not change and the function is trivial"
   ]
  },
  {
   "cell_type": "code",
   "execution_count": 3,
   "metadata": {},
   "outputs": [],
   "source": [
    "def default_update_covariates_function(covariates_entering_origin_state, origin_state=None, target_state=None,\n",
    "                                       time_at_origin=None, abs_time_entry_to_target_state=None):\n",
    "    return covariates_entering_origin_state"
   ]
  },
  {
   "cell_type": "markdown",
   "metadata": {},
   "source": [
    "You can define any function, as long as it recieves the following parameter types (in this order): \n",
    "1. pandas Series (sample covariates when entering the origin state)\n",
    "2. int (origin state number)\n",
    "3. int (target state number)\n",
    "4. float (time spent at origin state)\n",
    "5. float (absolute time of entry to target state)\n",
    "\n",
    "If some of the parameters are not used in the function, use a default value of None, as in the example above."
   ]
  },
  {
   "cell_type": "markdown",
   "metadata": {},
   "source": [
    "## Defining terminal states"
   ]
  },
  {
   "cell_type": "code",
   "execution_count": 4,
   "metadata": {},
   "outputs": [],
   "source": [
    "terminal_states = [3]"
   ]
  },
  {
   "cell_type": "markdown",
   "metadata": {},
   "source": [
    "## Fitting the model"
   ]
  },
  {
   "cell_type": "markdown",
   "metadata": {},
   "source": [
    "Import and init the Model"
   ]
  },
  {
   "cell_type": "code",
   "execution_count": 5,
   "metadata": {},
   "outputs": [],
   "source": [
    "from pymsm.multi_state_competing_risks_model import MultiStateModel\n",
    "multi_state_model = MultiStateModel(dataset, terminal_states, default_update_covariates_function, \n",
    "                                    ['covariate_1', 'covariate_2'])"
   ]
  },
  {
   "cell_type": "markdown",
   "metadata": {},
   "source": [
    "Fit the Model"
   ]
  },
  {
   "cell_type": "code",
   "execution_count": 6,
   "metadata": {},
   "outputs": [
    {
     "name": "stdout",
     "output_type": "stream",
     "text": [
      "Fitting Model at State: 1\n",
      "[2 3]\n",
      ">>> Fitting Transition to State: 2, n events: 647\n"
     ]
    },
    {
     "name": "stderr",
     "output_type": "stream",
     "text": [
      "C:\\Users\\Admin\\anaconda3\\lib\\site-packages\\pandas\\core\\frame.py:3997: SettingWithCopyWarning: \n",
      "A value is trying to be set on a copy of a slice from a DataFrame\n",
      "\n",
      "See the caveats in the documentation: https://pandas.pydata.org/pandas-docs/stable/user_guide/indexing.html#returning-a-view-versus-a-copy\n",
      "  errors=errors,\n",
      "C:\\Users\\Admin\\anaconda3\\lib\\site-packages\\pandas\\core\\indexing.py:966: SettingWithCopyWarning: \n",
      "A value is trying to be set on a copy of a slice from a DataFrame.\n",
      "Try using .loc[row_indexer,col_indexer] = value instead\n",
      "\n",
      "See the caveats in the documentation: https://pandas.pydata.org/pandas-docs/stable/user_guide/indexing.html#returning-a-view-versus-a-copy\n",
      "  self.obj[item] = s\n"
     ]
    },
    {
     "name": "stdout",
     "output_type": "stream",
     "text": [
      ">>> Fitting Transition to State: 3, n events: 687\n",
      "Fitting Model at State: 2\n",
      "[3 1]\n",
      ">>> Fitting Transition to State: 3, n events: 313\n"
     ]
    },
    {
     "name": "stderr",
     "output_type": "stream",
     "text": [
      "C:\\Users\\Admin\\anaconda3\\lib\\site-packages\\pandas\\core\\frame.py:3997: SettingWithCopyWarning: \n",
      "A value is trying to be set on a copy of a slice from a DataFrame\n",
      "\n",
      "See the caveats in the documentation: https://pandas.pydata.org/pandas-docs/stable/user_guide/indexing.html#returning-a-view-versus-a-copy\n",
      "  errors=errors,\n",
      "C:\\Users\\Admin\\anaconda3\\lib\\site-packages\\pandas\\core\\indexing.py:966: SettingWithCopyWarning: \n",
      "A value is trying to be set on a copy of a slice from a DataFrame.\n",
      "Try using .loc[row_indexer,col_indexer] = value instead\n",
      "\n",
      "See the caveats in the documentation: https://pandas.pydata.org/pandas-docs/stable/user_guide/indexing.html#returning-a-view-versus-a-copy\n",
      "  self.obj[item] = s\n"
     ]
    },
    {
     "name": "stdout",
     "output_type": "stream",
     "text": [
      ">>> Fitting Transition to State: 1, n events: 334\n"
     ]
    }
   ],
   "source": [
    "multi_state_model.fit()"
   ]
  },
  {
   "cell_type": "markdown",
   "metadata": {},
   "source": [
    "We can see that a model was fit to each non-terminal state, and we can see the number of observed events observed for each transition.\n",
    "\n",
    "Note: If the number of events for a certain transition is too small, a warning message could appear indicating that the model fitting did not converge. Avoid use of the model in such cases as it is highly unpredictable!"
   ]
  },
  {
   "cell_type": "markdown",
   "metadata": {},
   "source": [
    "## Making Predictions"
   ]
  },
  {
   "cell_type": "code",
   "execution_count": null,
   "metadata": {},
   "outputs": [],
   "source": []
  }
 ],
 "metadata": {
  "kernelspec": {
   "display_name": "Python 3",
   "language": "python",
   "name": "python3"
  },
  "language_info": {
   "codemirror_mode": {
    "name": "ipython",
    "version": 3
   },
   "file_extension": ".py",
   "mimetype": "text/x-python",
   "name": "python",
   "nbconvert_exporter": "python",
   "pygments_lexer": "ipython3",
   "version": "3.7.7"
  }
 },
 "nbformat": 4,
 "nbformat_minor": 4
}
