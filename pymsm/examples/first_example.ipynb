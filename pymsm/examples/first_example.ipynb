{
 "cells": [
  {
   "cell_type": "code",
   "execution_count": null,
   "metadata": {},
   "outputs": [],
   "source": [
    "import numpy as np"
   ]
  },
  {
   "cell_type": "code",
   "execution_count": null,
   "metadata": {},
   "outputs": [],
   "source": [
    "BETA = 1  # 1/lambda for exponential dist\n",
    "\n",
    "\n",
    "def transition_from_state_1():\n",
    "    p1 = 0\n",
    "    t1 = None\n",
    "    p2 = 0.5\n",
    "    t2 = np.random.exponential(beta=BETA)\n",
    "    p3 = 0.5\n",
    "    t3 = 1\n",
    "    return ([p1, p2, p3], [t1, t2, t3])\n",
    "\n",
    "\n",
    "def transition_from_state_2():\n",
    "    p1 = 0.5\n",
    "    t1 = np.random.exponential(beta=beta)\n",
    "    p2 = 0\n",
    "    t2 = None\n",
    "    p3 = 0.5\n",
    "    t3 = 1\n",
    "    return ([p1, p2, p3], [t1, t2, t3])\n",
    "\n",
    "\n",
    "def transition_from_state_3():\n",
    "    p1 = 0\n",
    "    t1 = None\n",
    "    p2 = 0\n",
    "    t2 = None\n",
    "    p3 = 1\n",
    "    t3 = 0\n",
    "    return([p1,p2,p3], [t1,t2,t3])"
   ]
  },
  {
   "cell_type": "code",
   "execution_count": null,
   "metadata": {},
   "outputs": [],
   "source": [
    "terminal_states = [3]\n",
    "\n",
    "states"
   ]
  }
 ],
 "metadata": {
  "language_info": {
   "name": "python"
  },
  "orig_nbformat": 4
 },
 "nbformat": 4,
 "nbformat_minor": 2
}
