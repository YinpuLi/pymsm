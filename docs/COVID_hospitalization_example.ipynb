{
 "cells": [
  {
   "cell_type": "markdown",
   "metadata": {},
   "source": [
    "## In this notebook  \n",
    "\n",
    "This notebook provides an  example of using the pymsm package in a more complex setting which includes recurring ecents and time-varying covariates.  \n",
    "We will also see how to load a saved model and run simualtions.  \n",
    "For all this, we will use Israel COVID-19 hospitalization [public data](https://github.com/JonathanSomer/covid-19-multi-state-model/blob/master/data/data_for_paper.csv), as described in [Roimi et. al. 2021](https://academic.oup.com/jamia/article/28/6/1188/6105188).  "
   ]
  },
  {
   "cell_type": "code",
   "execution_count": 6,
   "metadata": {},
   "outputs": [],
   "source": [
    "# Imports\n",
    "import pandas as pd\n",
    "import numpy as np\n",
    "import matplotlib.pyplot as plt\n",
    "\n",
    "from pymsm.datasets import prep_covid_hosp_data\n",
    "from pymsm.multi_state_competing_risks_model import MultiStateModel\n",
    "from pymsm.statistics import (\n",
    "    prob_visited_states,\n",
    "    stats_total_time_at_states,\n",
    "    get_path_frequencies,\n",
    "    path_total_time_at_states\n",
    ")\n",
    "from pymsm.simulation import MultiStateSimulator"
   ]
  },
  {
   "cell_type": "markdown",
   "metadata": {},
   "source": [
    "## Load data"
   ]
  },
  {
   "cell_type": "code",
   "execution_count": 1,
   "metadata": {},
   "outputs": [
    {
     "data": {
      "text/html": [
       "<img src=\"https://mermaid.ink/img/c3RhdGVEaWFncmFtLXYyCiAgICBzMSA6ICgxKSBEaXNjaGFyZ2VzIFwgUmVjb3ZlcmVkCiAgICBzMjogKDIpIE1pbGQgb3IgTW9kZXJhdGUKICAgIHMzOiAoMykgU2V2ZXJlCiAgICBzNDogKDQpIERlY2Vhc2VkCiAgICBzMSAtLT4gczIKICAgIHMyIC0tPiBzMQogICAgczIgLS0+IHMzCiAgICBzMiAtLT4gczQKICAgIHMzIC0tPiBzMgogICAgczMgLS0+IHM0Cg==\"/>"
      ],
      "text/plain": [
       "<IPython.core.display.Image object>"
      ]
     },
     "execution_count": 1,
     "metadata": {},
     "output_type": "execute_result"
    }
   ],
   "source": [
    "from pymsm.plotting import state_diagram\n",
    "\n",
    "state_diagram(\n",
    "    \"\"\"\n",
    "    s1 : (1) Discharged \\ Recovered\n",
    "    s2: (2) Mild or Moderate\n",
    "    s3: (3) Severe\n",
    "    s4: (4) Deceased\n",
    "    s1 --> s2\n",
    "    s2 --> s1\n",
    "    s2 --> s3\n",
    "    s2 --> s4\n",
    "    s3 --> s2\n",
    "    s3 --> s4\n",
    "\"\"\"\n",
    ")\n"
   ]
  },
  {
   "cell_type": "code",
   "execution_count": 8,
   "metadata": {},
   "outputs": [
    {
     "name": "stderr",
     "output_type": "stream",
     "text": [
      "100%|██████████| 2675/2675 [00:05<00:00, 501.81it/s]\n"
     ]
    }
   ],
   "source": [
    "covid_dataset = prep_covid_hosp_data()\n",
    "\n",
    "# Some definitions\n",
    "covariate_cols = [\"is_male\", \"age\", \"was_severe\"]\n",
    "\n",
    "states_labels_long = {\n",
    "    0: \"Censored\",\n",
    "    1: \"Discharged\\Recovered\",\n",
    "    2: \"Mild or Moderate\",\n",
    "    3: \"Severe\",\n",
    "    4: \"Deceased\",\n",
    "}\n",
    "states_labels = {0: \"C\", 1: \"R\", 2: \"M\", 3: \"S\", 4: \"D\"}\n",
    "terminal_states = [4]\n"
   ]
  },
  {
   "cell_type": "markdown",
   "metadata": {},
   "source": [
    "Let's look at one patients path"
   ]
  },
  {
   "cell_type": "code",
   "execution_count": 9,
   "metadata": {},
   "outputs": [
    {
     "name": "stdout",
     "output_type": "stream",
     "text": [
      "Sample id: 577\n",
      "States: [2 3 4]\n",
      "Transition times: [ 6 31]\n",
      "Covariates:\n",
      "is_male        1.0\n",
      "age           72.5\n",
      "was_severe     0.0\n",
      "Name: 567, dtype: float64\n"
     ]
    }
   ],
   "source": [
    "covid_dataset[567].print_path()"
   ]
  },
  {
   "cell_type": "markdown",
   "metadata": {},
   "source": [
    "For the example above, we see a man aged 72.5,  \n",
    "who follows a path of \"Mild or Moderate\"->\"Severe\"->\"Deceased\"  \n",
    "with transition times of 6 and 31 days."
   ]
  },
  {
   "cell_type": "markdown",
   "metadata": {},
   "source": [
    "## Path frequencies  \n",
    "\n",
    "We can print out a summary for all different trajectories in the data"
   ]
  },
  {
   "cell_type": "code",
   "execution_count": 10,
   "metadata": {},
   "outputs": [
    {
     "name": "stdout",
     "output_type": "stream",
     "text": [
      "M->R                               1906\n",
      "M                                   202\n",
      "M->S                                 76\n",
      "S->D                                 74\n",
      "M->S->D                              59\n",
      "M->S->M->R                           46\n",
      "M->D                                 44\n",
      "M->R->M->R                           42\n",
      "S                                    42\n",
      "M->R->M                              36\n",
      "M->S->M                              35\n",
      "S->M->R                              28\n",
      "S->M                                 27\n",
      "M->S->M->S                            8\n",
      "S->R                                  6\n",
      "S->M->S                               5\n",
      "S->M->S->M->R                         3\n",
      "S->M->D                               3\n",
      "M->S->M->S->M                         3\n",
      "M->S->M->S->M->R                      3\n",
      "M->R->M->R->M->R                      3\n",
      "M->S->R                               3\n",
      "S->M->S->D                            2\n",
      "M->S->M->D                            2\n",
      "M->R->M->S                            2\n",
      "S->M->S->M->S->M                      2\n",
      "M->R->M->D                            2\n",
      "M->R->M->R->M                         2\n",
      "M->R->S                               1\n",
      "M->R->M->R->M->R->M->R->M->R->C       1\n",
      "M->S->M->R->M->R                      1\n",
      "M->R->S->M->R                         1\n",
      "S->M->S->M->S->M->R                   1\n",
      "S->M->S->M->D                         1\n",
      "S->M->R->M                            1\n",
      "M->S->M->S->M->S->M                   1\n",
      "M->S->M->S->M->S                      1\n",
      "dtype: int64\n"
     ]
    }
   ],
   "source": [
    "path_freqs = get_path_frequencies(covid_dataset, states_labels)\n",
    "print(path_freqs)"
   ]
  },
  {
   "cell_type": "markdown",
   "metadata": {},
   "source": [
    "## Define time-varying covariates  \n",
    "\n",
    "We can define a custom \"update_covariates_function\" such as below: "
   ]
  },
  {
   "cell_type": "code",
   "execution_count": 11,
   "metadata": {},
   "outputs": [],
   "source": [
    "def covid_update_covariates_function(\n",
    "    covariates_entering_origin_state,\n",
    "    origin_state=None,\n",
    "    target_state=None,\n",
    "    time_at_origin=None,\n",
    "    abs_time_entry_to_target_state=None,\n",
    "):\n",
    "    covariates = covariates_entering_origin_state.copy()\n",
    "\n",
    "    # update is_severe covariate\n",
    "    if origin_state == 3:\n",
    "        covariates['was_severe'] = 1\n",
    "\n",
    "    # # update cum_hosp_tim covariate\n",
    "    # if ((origin_state==2) & (origin_state==3)):\n",
    "    #     covariates[\"cum_hosp_time\"] += time_at_origin\n",
    "\n",
    "    return covariates"
   ]
  },
  {
   "cell_type": "markdown",
   "metadata": {},
   "source": [
    "## Fitting the Multistate model"
   ]
  },
  {
   "cell_type": "code",
   "execution_count": 12,
   "metadata": {},
   "outputs": [
    {
     "name": "stdout",
     "output_type": "stream",
     "text": [
      "Fitting Model at State: 2\n",
      ">>> Fitting Transition to State: 1, n events: 2135\n",
      ">>> Fitting Transition to State: 3, n events: 275\n",
      ">>> Fitting Transition to State: 4, n events: 52\n",
      "Fitting Model at State: 1\n",
      ">>> Fitting Transition to State: 2, n events: 98\n",
      ">>> Fitting Transition to State: 3, n events: 2\n"
     ]
    },
    {
     "name": "stderr",
     "output_type": "stream",
     "text": [
      "/home/hagair/.cache/pypoetry/virtualenvs/pymsm-3fT5GPF--py3.8/lib/python3.8/site-packages/lifelines/utils/__init__.py:1123: ConvergenceWarning: Column is_male have very low variance when conditioned on death event present or not. This may harm convergence. This could be a form of 'complete separation'. For example, try the following code:\n",
      "\n",
      ">>> events = df['target_state'].astype(bool)\n",
      ">>> print(df.loc[events, 'is_male'].var())\n",
      ">>> print(df.loc[~events, 'is_male'].var())\n",
      "\n",
      "A very low variance means that the column is_male completely determines whether a subject dies or not. See https://stats.stackexchange.com/questions/11109/how-to-deal-with-perfect-separation-in-logistic-regression.\n",
      "\n",
      "  warnings.warn(dedent(warning_text), ConvergenceWarning)\n",
      "/home/hagair/.cache/pypoetry/virtualenvs/pymsm-3fT5GPF--py3.8/lib/python3.8/site-packages/lifelines/fitters/coxph_fitter.py:1594: ConvergenceWarning: Newton-Rhaphson convergence completed successfully but norm(delta) is still high, 0.537. This may imply non-unique solutions to the maximum likelihood. Perhaps there is collinearity or complete separation in the dataset?\n",
      "\n",
      "  warnings.warn(\n"
     ]
    },
    {
     "name": "stdout",
     "output_type": "stream",
     "text": [
      "Fitting Model at State: 3\n",
      ">>> Fitting Transition to State: 2, n events: 193\n",
      ">>> Fitting Transition to State: 1, n events: 9\n",
      ">>> Fitting Transition to State: 4, n events: 135\n"
     ]
    },
    {
     "name": "stderr",
     "output_type": "stream",
     "text": [
      "/home/hagair/.cache/pypoetry/virtualenvs/pymsm-3fT5GPF--py3.8/lib/python3.8/site-packages/lifelines/utils/__init__.py:1123: ConvergenceWarning: Column was_severe have very low variance when conditioned on death event present or not. This may harm convergence. This could be a form of 'complete separation'. For example, try the following code:\n",
      "\n",
      ">>> events = df['target_state'].astype(bool)\n",
      ">>> print(df.loc[events, 'was_severe'].var())\n",
      ">>> print(df.loc[~events, 'was_severe'].var())\n",
      "\n",
      "A very low variance means that the column was_severe completely determines whether a subject dies or not. See https://stats.stackexchange.com/questions/11109/how-to-deal-with-perfect-separation-in-logistic-regression.\n",
      "\n",
      "  warnings.warn(dedent(warning_text), ConvergenceWarning)\n",
      "/home/hagair/.cache/pypoetry/virtualenvs/pymsm-3fT5GPF--py3.8/lib/python3.8/site-packages/lifelines/fitters/coxph_fitter.py:1594: ConvergenceWarning: Newton-Rhaphson convergence completed successfully but norm(delta) is still high, 0.262. This may imply non-unique solutions to the maximum likelihood. Perhaps there is collinearity or complete separation in the dataset?\n",
      "\n",
      "  warnings.warn(\n"
     ]
    }
   ],
   "source": [
    "multi_state_model = MultiStateModel(covid_dataset, terminal_states, covid_update_covariates_function, covariate_cols,)\n",
    "multi_state_model.fit()"
   ]
  },
  {
   "cell_type": "markdown",
   "metadata": {},
   "source": [
    "Note that we get some warnings for some of the transitions. These should be handled or at least acknowledged when fitting a model."
   ]
  },
  {
   "cell_type": "markdown",
   "metadata": {},
   "source": [
    "## Single patient stats  \n",
    "Let's take a look at how the model models transitions for a single patient - a female aged 75  \n",
    "We'll run a Monte-Carlo simulation for 100 samples and present some path statistics"
   ]
  },
  {
   "cell_type": "code",
   "execution_count": 13,
   "metadata": {},
   "outputs": [
    {
     "name": "stderr",
     "output_type": "stream",
     "text": [
      "100%|██████████| 100/100 [00:39<00:00,  2.54it/s]\n"
     ]
    }
   ],
   "source": [
    "# Run MC for a sample single patient\n",
    "mc_paths = multi_state_model.run_monte_carlo_simulation(\n",
    "    sample_covariates=pd.Series({\"is_male\":0, \"age\":75, \"was_severe\":0}),\n",
    "    origin_state=2,\n",
    "    current_time=0,\n",
    "    n_random_samples=100,\n",
    "    max_transitions=10,\n",
    "    print_paths=False,\n",
    "    n_jobs=-1\n",
    ")"
   ]
  },
  {
   "cell_type": "markdown",
   "metadata": {},
   "source": [
    "Let's calculate the probability of being in any of the states and also obtain stats regarding time in each state"
   ]
  },
  {
   "cell_type": "code",
   "execution_count": 14,
   "metadata": {},
   "outputs": [
    {
     "name": "stdout",
     "output_type": "stream",
     "text": [
      "Probabilty of ever being Discharged\\Recovered = 0.15\n",
      "Probabilty of ever being Mild or Moderate = 1.0\n",
      "Probabilty of ever being Severe = 0.34\n",
      "Probabilty of ever being Deceased = 1.0\n"
     ]
    },
    {
     "data": {
      "text/html": [
       "<div>\n",
       "<style scoped>\n",
       "    .dataframe tbody tr th:only-of-type {\n",
       "        vertical-align: middle;\n",
       "    }\n",
       "\n",
       "    .dataframe tbody tr th {\n",
       "        vertical-align: top;\n",
       "    }\n",
       "\n",
       "    .dataframe thead th {\n",
       "        text-align: right;\n",
       "    }\n",
       "</style>\n",
       "<table border=\"1\" class=\"dataframe\">\n",
       "  <thead>\n",
       "    <tr style=\"text-align: right;\">\n",
       "      <th></th>\n",
       "      <th>Discharged\\Recovered</th>\n",
       "      <th>Mild or Moderate</th>\n",
       "      <th>Severe</th>\n",
       "    </tr>\n",
       "  </thead>\n",
       "  <tbody>\n",
       "    <tr>\n",
       "      <th>time_in_state_mean</th>\n",
       "      <td>5.030</td>\n",
       "      <td>4.400</td>\n",
       "      <td>0.930</td>\n",
       "    </tr>\n",
       "    <tr>\n",
       "      <th>time_in_state_std</th>\n",
       "      <td>14.072</td>\n",
       "      <td>2.814</td>\n",
       "      <td>2.137</td>\n",
       "    </tr>\n",
       "    <tr>\n",
       "      <th>time_in_state_median</th>\n",
       "      <td>0.000</td>\n",
       "      <td>4.000</td>\n",
       "      <td>0.000</td>\n",
       "    </tr>\n",
       "    <tr>\n",
       "      <th>time_in_state_min</th>\n",
       "      <td>0.000</td>\n",
       "      <td>1.000</td>\n",
       "      <td>0.000</td>\n",
       "    </tr>\n",
       "    <tr>\n",
       "      <th>time_in_state_max</th>\n",
       "      <td>73.000</td>\n",
       "      <td>14.000</td>\n",
       "      <td>14.000</td>\n",
       "    </tr>\n",
       "    <tr>\n",
       "      <th>time_in_state_quantile_0.1</th>\n",
       "      <td>0.000</td>\n",
       "      <td>2.000</td>\n",
       "      <td>0.000</td>\n",
       "    </tr>\n",
       "    <tr>\n",
       "      <th>time_in_state_quantile_0.25</th>\n",
       "      <td>0.000</td>\n",
       "      <td>3.000</td>\n",
       "      <td>0.000</td>\n",
       "    </tr>\n",
       "    <tr>\n",
       "      <th>time_in_state_quantile_0.75</th>\n",
       "      <td>0.000</td>\n",
       "      <td>5.000</td>\n",
       "      <td>1.000</td>\n",
       "    </tr>\n",
       "    <tr>\n",
       "      <th>time_in_state_quantile_0.9</th>\n",
       "      <td>21.100</td>\n",
       "      <td>7.000</td>\n",
       "      <td>3.000</td>\n",
       "    </tr>\n",
       "  </tbody>\n",
       "</table>\n",
       "</div>"
      ],
      "text/plain": [
       "                             Discharged\\Recovered  Mild or Moderate  Severe\n",
       "time_in_state_mean                          5.030             4.400   0.930\n",
       "time_in_state_std                          14.072             2.814   2.137\n",
       "time_in_state_median                        0.000             4.000   0.000\n",
       "time_in_state_min                           0.000             1.000   0.000\n",
       "time_in_state_max                          73.000            14.000  14.000\n",
       "time_in_state_quantile_0.1                  0.000             2.000   0.000\n",
       "time_in_state_quantile_0.25                 0.000             3.000   0.000\n",
       "time_in_state_quantile_0.75                 0.000             5.000   1.000\n",
       "time_in_state_quantile_0.9                 21.100             7.000   3.000"
      ]
     },
     "execution_count": 14,
     "metadata": {},
     "output_type": "execute_result"
    }
   ],
   "source": [
    "# Probability of visiting any of the states\n",
    "for state, state_label in states_labels_long.items():\n",
    "    if state == 0:\n",
    "        continue\n",
    "    print(\n",
    "        f\"Probabilty of ever being {state_label} = {prob_visited_states(mc_paths, states=[state])}\"\n",
    "    )\n",
    "\n",
    "\n",
    "# Stats for times at states\n",
    "dfs = []\n",
    "for state, state_label in states_labels_long.items():\n",
    "    if state == 0 or state in terminal_states:\n",
    "        continue\n",
    "    dfs.append(\n",
    "        pd.DataFrame(\n",
    "            data=stats_total_time_at_states(mc_paths, states=[state]),\n",
    "            index=[state_label],\n",
    "        )\n",
    "    )\n",
    "pd.concat(dfs).round(3).T\n"
   ]
  },
  {
   "cell_type": "markdown",
   "metadata": {},
   "source": [
    "Print out the path frequences for the sampled paths"
   ]
  },
  {
   "cell_type": "code",
   "execution_count": 15,
   "metadata": {},
   "outputs": [
    {
     "data": {
      "text/plain": [
       "M->D          54\n",
       "M->S->D       31\n",
       "M->R->M->D    12\n",
       "M->R->S->D     3\n",
       "dtype: int64"
      ]
     },
     "execution_count": 15,
     "metadata": {},
     "output_type": "execute_result"
    }
   ],
   "source": [
    "path_freqs = get_path_frequencies(mc_paths, states_labels)\n",
    "path_freqs.head(10)"
   ]
  },
  {
   "cell_type": "markdown",
   "metadata": {},
   "source": [
    "A CDF for the total time in hospital"
   ]
  },
  {
   "cell_type": "code",
   "execution_count": 16,
   "metadata": {},
   "outputs": [
    {
     "data": {
      "image/png": "[encoded data removed]",
      "text/plain": [
       "<Figure size 720x360 with 1 Axes>"
      ]
     },
     "metadata": {
      "needs_background": "light"
     },
     "output_type": "display_data"
    }
   ],
   "source": [
    "los = np.array([path_total_time_at_states(path, states = [2,3]) for path in mc_paths])\n",
    "\n",
    "fig, ax = plt.subplots(1,1, figsize=(10,5))\n",
    "ax.plot(np.sort(los), np.linspace(0, 1, len(los), endpoint=False), lw=5)\n",
    "# ax.set_xlim(0,20)\n",
    "ax.set_ylabel('CDF of Length of Stay')\n",
    "ax.set_xlabel('Days');"
   ]
  },
  {
   "cell_type": "markdown",
   "metadata": {},
   "source": [
    "We can also look at Monte-Carlo simulations for the same patient, assuming we already know she has been in the Severe (3) state, for 2 days.\n",
    "\n",
    "To do this, we simply need to set the *origin_state* to 3, set the *current_time* to 2, and update her covariates accordingly."
   ]
  },
  {
   "cell_type": "code",
   "execution_count": 17,
   "metadata": {},
   "outputs": [
    {
     "name": "stderr",
     "output_type": "stream",
     "text": [
      "100%|██████████| 100/100 [00:36<00:00,  2.72it/s]\n"
     ]
    }
   ],
   "source": [
    "# Run MC for a sample single patient\n",
    "mc_paths_severe = multi_state_model.run_monte_carlo_simulation(\n",
    "    sample_covariates=pd.Series({\"is_male\":0, \"age\":75, \"was_severe\": 1}),\n",
    "    origin_state=3,\n",
    "    current_time=2,\n",
    "    n_random_samples=100,\n",
    "    max_transitions=10,\n",
    "    print_paths=False,\n",
    "    n_jobs=-1\n",
    ")"
   ]
  },
  {
   "cell_type": "markdown",
   "metadata": {},
   "source": [
    "Now we can calculate the probability of being in any of the states and obtain stats regarding time in each state.\n",
    "\n",
    "We can compare these to the statistics we obtained above, when the patient started in a Mild (2) state."
   ]
  },
  {
   "cell_type": "code",
   "execution_count": 18,
   "metadata": {},
   "outputs": [
    {
     "name": "stdout",
     "output_type": "stream",
     "text": [
      "Probabilty of ever being Discharged\\Recovered = 0.0\n",
      "Probabilty of ever being Mild or Moderate = 0.05\n",
      "Probabilty of ever being Severe = 1.0\n",
      "Probabilty of ever being Deceased = 1.0\n"
     ]
    },
    {
     "data": {
      "text/html": [
       "<div>\n",
       "<style scoped>\n",
       "    .dataframe tbody tr th:only-of-type {\n",
       "        vertical-align: middle;\n",
       "    }\n",
       "\n",
       "    .dataframe tbody tr th {\n",
       "        vertical-align: top;\n",
       "    }\n",
       "\n",
       "    .dataframe thead th {\n",
       "        text-align: right;\n",
       "    }\n",
       "</style>\n",
       "<table border=\"1\" class=\"dataframe\">\n",
       "  <thead>\n",
       "    <tr style=\"text-align: right;\">\n",
       "      <th></th>\n",
       "      <th>Discharged\\Recovered</th>\n",
       "      <th>Mild or Moderate</th>\n",
       "      <th>Severe</th>\n",
       "    </tr>\n",
       "  </thead>\n",
       "  <tbody>\n",
       "    <tr>\n",
       "      <th>time_in_state_mean</th>\n",
       "      <td>0.0</td>\n",
       "      <td>0.120</td>\n",
       "      <td>7.680</td>\n",
       "    </tr>\n",
       "    <tr>\n",
       "      <th>time_in_state_std</th>\n",
       "      <td>0.0</td>\n",
       "      <td>0.682</td>\n",
       "      <td>10.151</td>\n",
       "    </tr>\n",
       "    <tr>\n",
       "      <th>time_in_state_median</th>\n",
       "      <td>0.0</td>\n",
       "      <td>0.000</td>\n",
       "      <td>5.000</td>\n",
       "    </tr>\n",
       "    <tr>\n",
       "      <th>time_in_state_min</th>\n",
       "      <td>0.0</td>\n",
       "      <td>0.000</td>\n",
       "      <td>0.000</td>\n",
       "    </tr>\n",
       "    <tr>\n",
       "      <th>time_in_state_max</th>\n",
       "      <td>0.0</td>\n",
       "      <td>6.000</td>\n",
       "      <td>83.000</td>\n",
       "    </tr>\n",
       "    <tr>\n",
       "      <th>time_in_state_quantile_0.1</th>\n",
       "      <td>0.0</td>\n",
       "      <td>0.000</td>\n",
       "      <td>0.000</td>\n",
       "    </tr>\n",
       "    <tr>\n",
       "      <th>time_in_state_quantile_0.25</th>\n",
       "      <td>0.0</td>\n",
       "      <td>0.000</td>\n",
       "      <td>2.000</td>\n",
       "    </tr>\n",
       "    <tr>\n",
       "      <th>time_in_state_quantile_0.75</th>\n",
       "      <td>0.0</td>\n",
       "      <td>0.000</td>\n",
       "      <td>9.250</td>\n",
       "    </tr>\n",
       "    <tr>\n",
       "      <th>time_in_state_quantile_0.9</th>\n",
       "      <td>0.0</td>\n",
       "      <td>0.000</td>\n",
       "      <td>15.300</td>\n",
       "    </tr>\n",
       "  </tbody>\n",
       "</table>\n",
       "</div>"
      ],
      "text/plain": [
       "                             Discharged\\Recovered  Mild or Moderate  Severe\n",
       "time_in_state_mean                            0.0             0.120   7.680\n",
       "time_in_state_std                             0.0             0.682  10.151\n",
       "time_in_state_median                          0.0             0.000   5.000\n",
       "time_in_state_min                             0.0             0.000   0.000\n",
       "time_in_state_max                             0.0             6.000  83.000\n",
       "time_in_state_quantile_0.1                    0.0             0.000   0.000\n",
       "time_in_state_quantile_0.25                   0.0             0.000   2.000\n",
       "time_in_state_quantile_0.75                   0.0             0.000   9.250\n",
       "time_in_state_quantile_0.9                    0.0             0.000  15.300"
      ]
     },
     "execution_count": 18,
     "metadata": {},
     "output_type": "execute_result"
    }
   ],
   "source": [
    "# Probability of visiting any of the states\n",
    "for state, state_label in states_labels_long.items():\n",
    "    if state == 0:\n",
    "        continue\n",
    "    print(\n",
    "        f\"Probabilty of ever being {state_label} = {prob_visited_states(mc_paths_severe, states=[state])}\"\n",
    "    )\n",
    "\n",
    "\n",
    "# Stats for times at states\n",
    "dfs = []\n",
    "for state, state_label in states_labels_long.items():\n",
    "    if state == 0 or state in terminal_states:\n",
    "        continue\n",
    "    dfs.append(\n",
    "        pd.DataFrame(\n",
    "            data=stats_total_time_at_states(mc_paths_severe, states=[state]),\n",
    "            index=[state_label],\n",
    "        )\n",
    "    )\n",
    "pd.concat(dfs).round(3).T"
   ]
  },
  {
   "cell_type": "markdown",
   "metadata": {},
   "source": [
    "## Saving the model and configuring a simulator  \n",
    "We can save the model for later use, and configure a simulator to generate simulated paths"
   ]
  },
  {
   "cell_type": "code",
   "execution_count": 19,
   "metadata": {},
   "outputs": [
    {
     "name": "stdout",
     "output_type": "stream",
     "text": [
      "2 1 <pymsm.competing_risks_model.EventSpecificModel object at 0x7f19e407ffa0>\n",
      "2 3 <pymsm.competing_risks_model.EventSpecificModel object at 0x7f198a5a92e0>\n",
      "2 4 <pymsm.competing_risks_model.EventSpecificModel object at 0x7f198a5c3280>\n",
      "1 2 <pymsm.competing_risks_model.EventSpecificModel object at 0x7f198a6877c0>\n",
      "1 3 <pymsm.competing_risks_model.EventSpecificModel object at 0x7f198a677c40>\n",
      "3 2 <pymsm.competing_risks_model.EventSpecificModel object at 0x7f198a5a7100>\n",
      "3 1 <pymsm.competing_risks_model.EventSpecificModel object at 0x7f198a5c3310>\n",
      "3 4 <pymsm.competing_risks_model.EventSpecificModel object at 0x7f198a5c38e0>\n"
     ]
    }
   ],
   "source": [
    "from pymsm.simulation import extract_competing_risks_models_list_from_msm\n",
    "\n",
    "competing_risks_models_list = extract_competing_risks_models_list_from_msm(\n",
    "    multi_state_model, verbose=True\n",
    ")\n",
    "\n",
    "# Configure the simulator\n",
    "mssim = MultiStateSimulator(\n",
    "    competing_risks_models_list,\n",
    "    terminal_states=[5, 6],\n",
    "    update_covariates_fn=covid_update_covariates_function,\n",
    "    covariate_names=covariate_cols,\n",
    ")\n"
   ]
  },
  {
   "cell_type": "markdown",
   "metadata": {},
   "source": [
    "And now we can sample paths from this simulator  "
   ]
  },
  {
   "cell_type": "code",
   "execution_count": 20,
   "metadata": {},
   "outputs": [
    {
     "name": "stderr",
     "output_type": "stream",
     "text": [
      "100%|██████████| 5/5 [00:00<00:00, 3283.98it/s]\n"
     ]
    },
    {
     "name": "stdout",
     "output_type": "stream",
     "text": [
      "States: [3, 2, 4]\n",
      "Transition times: [10.000000695213053, 8.000048090191338]\n",
      "\n",
      "\n",
      "States: [3, 4]\n",
      "Transition times: [11.000062585991571]\n",
      "\n",
      "\n",
      "States: [3, 4]\n",
      "Transition times: [2.000094724857738]\n",
      "\n",
      "\n",
      "States: [3, 4]\n",
      "Transition times: [7.000089000534182]\n",
      "\n",
      "\n",
      "States: [3, 4]\n",
      "Transition times: [2.0000950607146937]\n",
      "\n",
      "\n"
     ]
    }
   ],
   "source": [
    "# Run MC for a sample single patient\n",
    "sim_paths = multi_state_model.run_monte_carlo_simulation(\n",
    "    sample_covariates=pd.Series({\"is_male\":0, \"age\":75, \"was_severe\": 0}),\n",
    "    origin_state=3,\n",
    "    current_time=2,\n",
    "    n_random_samples=5,\n",
    "    max_transitions=10,\n",
    "    print_paths=True,\n",
    "    n_jobs=-1\n",
    ")"
   ]
  }
 ],
 "metadata": {
  "interpreter": {
   "hash": "75245bec35210ab08e7172c93719ec93a5ec38f67703239b6585339df04b4818"
  },
  "kernelspec": {
   "display_name": "Python 3 (ipykernel)",
   "language": "python",
   "name": "python3"
  },
  "language_info": {
   "codemirror_mode": {
    "name": "ipython",
    "version": 3
   },
   "file_extension": ".py",
   "mimetype": "text/x-python",
   "name": "python",
   "nbconvert_exporter": "python",
   "pygments_lexer": "ipython3",
   "version": "3.8.10"
  }
 },
 "nbformat": 4,
 "nbformat_minor": 2
}
