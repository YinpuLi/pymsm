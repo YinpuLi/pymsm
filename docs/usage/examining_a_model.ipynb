{
 "cells": [
  {
   "cell_type": "markdown",
   "metadata": {},
   "source": [
    "There are various ways we can examine a model - both before and after we fit it:\n",
    "\n",
    "## States diagram  "
   ]
  },
  {
   "cell_type": "code",
   "execution_count": 1,
   "metadata": {},
   "outputs": [
    {
     "name": "stderr",
     "output_type": "stream",
     "text": [
      "100%|██████████| 2675/2675 [00:05<00:00, 494.79it/s]\n"
     ]
    },
    {
     "data": {
      "text/html": [
       "<img src=\"https://mermaid.ink/img/c3RhdGVEaWFncmFtLXYyCnMxIDogKDEpIERpc2NoYXJnZWRcUmVjb3ZlcmVkCnMyIDogKDIpIE1pbGQgb3IgTW9kZXJhdGUKczMgOiAoMykgU2V2ZXJlCnM0IDogKDQpIERlY2Vhc2VkCnMxIC0tPiBzMjogOTggCnMxIC0tPiBzMzogMiAKczIgLS0+IHMxOiAyMTM1IApzMiAtLT4gczM6IDI3NSAKczIgLS0+IHM0OiA1MiAKczMgLS0+IHMxOiA5IApzMyAtLT4gczI6IDE5MyAKczMgLS0+IHM0OiAxMzUgCgo=\"/>"
      ],
      "text/plain": [
       "<IPython.core.display.Image object>"
      ]
     },
     "metadata": {},
     "output_type": "display_data"
    }
   ],
   "source": [
    "from pymsm.datasets import prep_covid_hosp_data, plot_covid_hosp\n",
    "dataset, state_labels = prep_covid_hosp_data()\n",
    "plot_covid_hosp(dataset, state_labels)"
   ]
  },
  {
   "cell_type": "markdown",
   "metadata": {},
   "source": [
    "# Transition table"
   ]
  },
  {
   "cell_type": "code",
   "execution_count": 2,
   "metadata": {},
   "outputs": [
    {
     "data": {
      "text/html": [
       "<div>\n",
       "<style scoped>\n",
       "    .dataframe tbody tr th:only-of-type {\n",
       "        vertical-align: middle;\n",
       "    }\n",
       "\n",
       "    .dataframe tbody tr th {\n",
       "        vertical-align: top;\n",
       "    }\n",
       "\n",
       "    .dataframe thead th {\n",
       "        text-align: right;\n",
       "    }\n",
       "</style>\n",
       "<table border=\"1\" class=\"dataframe\">\n",
       "  <thead>\n",
       "    <tr style=\"text-align: right;\">\n",
       "      <th>target_state</th>\n",
       "      <th>Censored</th>\n",
       "      <th>Discharged\\Recovered</th>\n",
       "      <th>Mild or Moderate</th>\n",
       "      <th>Severe</th>\n",
       "      <th>Deceased</th>\n",
       "    </tr>\n",
       "    <tr>\n",
       "      <th>origin_state</th>\n",
       "      <th></th>\n",
       "      <th></th>\n",
       "      <th></th>\n",
       "      <th></th>\n",
       "      <th></th>\n",
       "    </tr>\n",
       "  </thead>\n",
       "  <tbody>\n",
       "    <tr>\n",
       "      <th>Discharged\\Recovered</th>\n",
       "      <td>2044</td>\n",
       "      <td>0</td>\n",
       "      <td>98</td>\n",
       "      <td>2</td>\n",
       "      <td>0</td>\n",
       "    </tr>\n",
       "    <tr>\n",
       "      <th>Mild or Moderate</th>\n",
       "      <td>309</td>\n",
       "      <td>2135</td>\n",
       "      <td>0</td>\n",
       "      <td>275</td>\n",
       "      <td>52</td>\n",
       "    </tr>\n",
       "    <tr>\n",
       "      <th>Severe</th>\n",
       "      <td>135</td>\n",
       "      <td>9</td>\n",
       "      <td>193</td>\n",
       "      <td>0</td>\n",
       "      <td>135</td>\n",
       "    </tr>\n",
       "  </tbody>\n",
       "</table>\n",
       "</div>"
      ],
      "text/plain": [
       "target_state          Censored  Discharged\\Recovered  Mild or Moderate  \\\n",
       "origin_state                                                             \n",
       "Discharged\\Recovered      2044                     0                98   \n",
       "Mild or Moderate           309                  2135                 0   \n",
       "Severe                     135                     9               193   \n",
       "\n",
       "target_state          Severe  Deceased  \n",
       "origin_state                            \n",
       "Discharged\\Recovered       2         0  \n",
       "Mild or Moderate         275        52  \n",
       "Severe                     0       135  "
      ]
     },
     "execution_count": 2,
     "metadata": {},
     "output_type": "execute_result"
    }
   ],
   "source": [
    "from pymsm.multi_state_competing_risks_model import MultiStateModel\n",
    "\n",
    "msm = MultiStateModel(\n",
    "    dataset=dataset,\n",
    "    terminal_states=[4],\n",
    "    state_labels=state_labels,\n",
    ")\n",
    "\n",
    "msm.prep_transition_table()"
   ]
  },
  {
   "cell_type": "code",
   "execution_count": 3,
   "metadata": {},
   "outputs": [
    {
     "data": {
      "text/html": [
       "<div>\n",
       "<style scoped>\n",
       "    .dataframe tbody tr th:only-of-type {\n",
       "        vertical-align: middle;\n",
       "    }\n",
       "\n",
       "    .dataframe tbody tr th {\n",
       "        vertical-align: top;\n",
       "    }\n",
       "\n",
       "    .dataframe thead th {\n",
       "        text-align: right;\n",
       "    }\n",
       "</style>\n",
       "<table border=\"1\" class=\"dataframe\">\n",
       "  <thead>\n",
       "    <tr style=\"text-align: right;\">\n",
       "      <th>target_state</th>\n",
       "      <th>0</th>\n",
       "      <th>1</th>\n",
       "      <th>2</th>\n",
       "      <th>3</th>\n",
       "      <th>4</th>\n",
       "    </tr>\n",
       "    <tr>\n",
       "      <th>origin_state</th>\n",
       "      <th></th>\n",
       "      <th></th>\n",
       "      <th></th>\n",
       "      <th></th>\n",
       "      <th></th>\n",
       "    </tr>\n",
       "  </thead>\n",
       "  <tbody>\n",
       "    <tr>\n",
       "      <th>1</th>\n",
       "      <td>2044</td>\n",
       "      <td>0</td>\n",
       "      <td>98</td>\n",
       "      <td>2</td>\n",
       "      <td>0</td>\n",
       "    </tr>\n",
       "    <tr>\n",
       "      <th>2</th>\n",
       "      <td>309</td>\n",
       "      <td>2135</td>\n",
       "      <td>0</td>\n",
       "      <td>275</td>\n",
       "      <td>52</td>\n",
       "    </tr>\n",
       "    <tr>\n",
       "      <th>3</th>\n",
       "      <td>135</td>\n",
       "      <td>9</td>\n",
       "      <td>193</td>\n",
       "      <td>0</td>\n",
       "      <td>135</td>\n",
       "    </tr>\n",
       "  </tbody>\n",
       "</table>\n",
       "</div>"
      ],
      "text/plain": [
       "target_state     0     1    2    3    4\n",
       "origin_state                           \n",
       "1             2044     0   98    2    0\n",
       "2              309  2135    0  275   52\n",
       "3              135     9  193    0  135"
      ]
     },
     "execution_count": 3,
     "metadata": {},
     "output_type": "execute_result"
    }
   ],
   "source": [
    "msm.transition_matrix"
   ]
  },
  {
   "cell_type": "code",
   "execution_count": 4,
   "metadata": {},
   "outputs": [
    {
     "data": {
      "text/html": [
       "<div>\n",
       "<style scoped>\n",
       "    .dataframe tbody tr th:only-of-type {\n",
       "        vertical-align: middle;\n",
       "    }\n",
       "\n",
       "    .dataframe tbody tr th {\n",
       "        vertical-align: top;\n",
       "    }\n",
       "\n",
       "    .dataframe thead th {\n",
       "        text-align: right;\n",
       "    }\n",
       "</style>\n",
       "<table border=\"1\" class=\"dataframe\">\n",
       "  <thead>\n",
       "    <tr style=\"text-align: right;\">\n",
       "      <th>target_state</th>\n",
       "      <th>Censored</th>\n",
       "      <th>Discharged\\Recovered</th>\n",
       "      <th>Mild or Moderate</th>\n",
       "      <th>Severe</th>\n",
       "      <th>Deceased</th>\n",
       "    </tr>\n",
       "    <tr>\n",
       "      <th>origin_state</th>\n",
       "      <th></th>\n",
       "      <th></th>\n",
       "      <th></th>\n",
       "      <th></th>\n",
       "      <th></th>\n",
       "    </tr>\n",
       "  </thead>\n",
       "  <tbody>\n",
       "    <tr>\n",
       "      <th>Discharged\\Recovered</th>\n",
       "      <td>2044</td>\n",
       "      <td>0</td>\n",
       "      <td>98</td>\n",
       "      <td>2</td>\n",
       "      <td>0</td>\n",
       "    </tr>\n",
       "    <tr>\n",
       "      <th>Mild or Moderate</th>\n",
       "      <td>309</td>\n",
       "      <td>2135</td>\n",
       "      <td>0</td>\n",
       "      <td>275</td>\n",
       "      <td>52</td>\n",
       "    </tr>\n",
       "    <tr>\n",
       "      <th>Severe</th>\n",
       "      <td>135</td>\n",
       "      <td>9</td>\n",
       "      <td>193</td>\n",
       "      <td>0</td>\n",
       "      <td>135</td>\n",
       "    </tr>\n",
       "  </tbody>\n",
       "</table>\n",
       "</div>"
      ],
      "text/plain": [
       "target_state          Censored  Discharged\\Recovered  Mild or Moderate  \\\n",
       "origin_state                                                             \n",
       "Discharged\\Recovered      2044                     0                98   \n",
       "Mild or Moderate           309                  2135                 0   \n",
       "Severe                     135                     9               193   \n",
       "\n",
       "target_state          Severe  Deceased  \n",
       "origin_state                            \n",
       "Discharged\\Recovered       2         0  \n",
       "Mild or Moderate         275        52  \n",
       "Severe                     0       135  "
      ]
     },
     "execution_count": 4,
     "metadata": {},
     "output_type": "execute_result"
    }
   ],
   "source": [
    "msm.transition_table"
   ]
  },
  {
   "cell_type": "markdown",
   "metadata": {},
   "source": [
    "## Path frequencies  "
   ]
  },
  {
   "cell_type": "code",
   "execution_count": 5,
   "metadata": {},
   "outputs": [
    {
     "data": {
      "text/plain": [
       "M->R                1906\n",
       "M                    202\n",
       "M->S                  76\n",
       "S->D                  74\n",
       "M->S->D               59\n",
       "M->S->M->R            46\n",
       "M->D                  44\n",
       "M->R->M->R            42\n",
       "S                     42\n",
       "M->R->M               36\n",
       "M->S->M               35\n",
       "S->M->R               28\n",
       "S->M                  27\n",
       "M->S->M->S             8\n",
       "S->R                   6\n",
       "S->M->S                5\n",
       "S->M->S->M->R          3\n",
       "S->M->D                3\n",
       "M->S->M->S->M          3\n",
       "M->S->M->S->M->R       3\n",
       "dtype: int64"
      ]
     },
     "execution_count": 5,
     "metadata": {},
     "output_type": "execute_result"
    }
   ],
   "source": [
    "state_labels_short = {0: \"C\", 1: \"R\", 2: \"M\", 3: \"S\", 4: \"D\"}\n",
    "\n",
    "from pymsm.statistics import get_path_frequencies\n",
    "path_freqs = get_path_frequencies(dataset, state_labels_short)\n",
    "path_freqs.head(20)"
   ]
  },
  {
   "cell_type": "markdown",
   "metadata": {},
   "source": [
    "# Examine competing risks from origin state  \n"
   ]
  },
  {
   "cell_type": "code",
   "execution_count": 6,
   "metadata": {},
   "outputs": [
    {
     "data": {
      "image/png": "[encoded data removed]",
      "text/plain": [
       "<Figure size 432x288 with 1 Axes>"
      ]
     },
     "metadata": {
      "needs_background": "light"
     },
     "output_type": "display_data"
    }
   ],
   "source": [
    "origin_state = 3\n",
    "competing_risk_dataset = msm.competing_risk_dataset\n",
    "competing_risk_dataset = competing_risk_dataset[competing_risk_dataset['origin_state'] == origin_state]\n",
    "\n",
    "\n",
    "from pymsm.plotting import competingrisks_stackplot\n",
    "\n",
    "competingrisks_stackplot(\n",
    "    data=competing_risk_dataset,\n",
    "    duration_col='time_transition_to_target',\n",
    "    event_col ='target_state',\n",
    "    order_top= [1],\n",
    "    order_bottom = [4,2],\n",
    "    state_labels = state_labels);"
   ]
  }
 ],
 "metadata": {
  "interpreter": {
   "hash": "d5215294beb831596eaf28ac2c7d5714ce9ab12d0594ce569bb97f76b082358e"
  },
  "kernelspec": {
   "display_name": "Python 3 (ipykernel)",
   "language": "python",
   "name": "python3"
  },
  "language_info": {
   "codemirror_mode": {
    "name": "ipython",
    "version": 3
   },
   "file_extension": ".py",
   "mimetype": "text/x-python",
   "name": "python",
   "nbconvert_exporter": "python",
   "pygments_lexer": "ipython3",
   "version": "3.9.7"
  }
 },
 "nbformat": 4,
 "nbformat_minor": 2
}
