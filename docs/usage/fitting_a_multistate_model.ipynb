{
 "cells": [
  {
   "cell_type": "markdown",
   "metadata": {},
   "source": [
    "## Fitting a model\n",
    "\n",
    "\n",
    "After preparing a dataset, we have a few more configurations to do:  \n",
    "\n",
    "1) Define terminal states in the model   \n",
    "\n",
    "Optional:  \n",
    "\n",
    "2) Define a custom update function for time-varying covariates (See COVID hospitaliztion example). Default is No updating  \n",
    "3) Define covariate columns  \n",
    "4) Define state labels  \n",
    "5) Define minimum number of data transitions needed to fit a transition  \n",
    "6) Define the event specific fitters. Default is CoxWrapper. See custom_fitters for more  "
   ]
  },
  {
   "cell_type": "code",
   "execution_count": 4,
   "metadata": {},
   "outputs": [
    {
     "name": "stderr",
     "output_type": "stream",
     "text": [
      "100%|██████████| 2675/2675 [00:40<00:00, 65.86it/s]\n"
     ]
    }
   ],
   "source": [
    "# Load data\n",
    "from pymsm.datasets import prep_covid_hosp_data\n",
    "\n",
    "dataset, state_labels = prep_covid_hosp_data()\n",
    "\n",
    "\n",
    "# 1) Define terminal states\n",
    "terminal_states = [4]\n",
    "\n",
    "# 2) Define a custom update function for time-varying covariates.\n",
    "# Default is No updating:\n",
    "from pymsm.multi_state_competing_risks_model import default_update_covariates_function\n",
    "update_covariates_fn = default_update_covariates_function\n",
    "\n",
    "# Let's define one:\n",
    "def covid_update_covariates_function(\n",
    "    covariates_entering_origin_state,\n",
    "    origin_state=None,\n",
    "    target_state=None,\n",
    "    time_at_origin=None,\n",
    "    abs_time_entry_to_target_state=None,\n",
    "):\n",
    "    covariates = covariates_entering_origin_state.copy()\n",
    "    # update is_severe covariate\n",
    "    if origin_state == 3:\n",
    "        covariates['was_severe'] = 1\n",
    "    return covariates\n",
    "\n",
    "# 3) Define covariate columns\n",
    "covariate_cols = [\"is_male\", \"age\", \"was_severe\"]\n",
    "\n",
    "# 4) Define state labels\n",
    "state_labels_short = {0: \"C\", 1: \"R\", 2: \"M\", 3: \"S\", 4: \"D\"}\n",
    "\n",
    "# 5) Define minimum number of data transitions needed to fit a transition\n",
    "trim_transitions_threshold = 10\n",
    "\n",
    "# 6) Define the event specific fitters. Default is CoxWrapper. See custom_fitters for more\n",
    "from pymsm.event_specific_fitter import CoxWrapper\n",
    "\n",
    "event_specific_fitter = CoxWrapper\n"
   ]
  },
  {
   "cell_type": "code",
   "execution_count": 5,
   "metadata": {},
   "outputs": [],
   "source": [
    "# Init MultistateModel\n",
    "from pymsm.multi_state_competing_risks_model import MultiStateModel\n",
    "\n",
    "multi_state_model = MultiStateModel(\n",
    "    dataset=dataset,\n",
    "    terminal_states=terminal_states,\n",
    "    update_covariates_fn=covid_update_covariates_function,\n",
    "    covariate_names=covariate_cols,\n",
    "    state_labels=state_labels_short,\n",
    "    event_specific_fitter=event_specific_fitter,\n",
    "    trim_transitions_threshold=trim_transitions_threshold,\n",
    ")\n"
   ]
  },
  {
   "cell_type": "markdown",
   "metadata": {},
   "source": [
    "Once we have the model initiated properly, we can fit it by simply calling the fit() method"
   ]
  },
  {
   "cell_type": "code",
   "execution_count": 6,
   "metadata": {},
   "outputs": [
    {
     "name": "stdout",
     "output_type": "stream",
     "text": [
      "Fitting Model at State: 2\n",
      ">>> Fitting Transition to State: 1, n events: 2135\n",
      ">>> Fitting Transition to State: 3, n events: 275\n",
      ">>> Fitting Transition to State: 4, n events: 52\n",
      "Fitting Model at State: 1\n",
      ">>> Fitting Transition to State: 2, n events: 98\n",
      "Fitting Model at State: 3\n",
      ">>> Fitting Transition to State: 2, n events: 193\n",
      ">>> Fitting Transition to State: 4, n events: 135\n"
     ]
    },
    {
     "data": {
      "text/html": [
       "<img src=\"https://mermaid.ink/img/c3RhdGVEaWFncmFtLXYyCnMwIDogKDApIEMKczEgOiAoMSkgUgpzMiA6ICgyKSBNCnMzIDogKDMpIFMKczQgOiAoNCkgRApzMSAtLT4gczI6IDk4IApzMiAtLT4gczE6IDIxMzUgCnMyIC0tPiBzMzogMjc1IApzMiAtLT4gczQ6IDUyIApzMyAtLT4gczI6IDE5MyAKczMgLS0+IHM0OiAxMzUgCgo=\"/>"
      ],
      "text/plain": [
       "<IPython.core.display.Image object>"
      ]
     },
     "metadata": {},
     "output_type": "display_data"
    }
   ],
   "source": [
    "multi_state_model.fit()"
   ]
  }
 ],
 "metadata": {
  "kernelspec": {
   "display_name": "Python 3.9.12 ('base')",
   "language": "python",
   "name": "python3"
  },
  "language_info": {
   "codemirror_mode": {
    "name": "ipython",
    "version": 3
   },
   "file_extension": ".py",
   "mimetype": "text/x-python",
   "name": "python",
   "nbconvert_exporter": "python",
   "pygments_lexer": "ipython3",
   "version": "3.9.12"
  },
  "orig_nbformat": 4,
  "vscode": {
   "interpreter": {
    "hash": "d4d1e4263499bec80672ea0156c357c1ee493ec2b1c70f0acce89fc37c4a6abe"
   }
  }
 },
 "nbformat": 4,
 "nbformat_minor": 2
}
