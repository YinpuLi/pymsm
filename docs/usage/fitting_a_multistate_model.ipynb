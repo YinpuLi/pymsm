{
 "cells": [
  {
   "cell_type": "markdown",
   "metadata": {},
   "source": [
    "## Fitting a model\n",
    "\n",
    "\n",
    "After preparing a dataset, we have a few more configurations to do:  \n",
    "\n",
    "1) Define terminal states in the model   \n",
    "\n",
    "Optional:  \n",
    "\n",
    "2) Define a custom update function for time-varying covariates (See COVID hospitaliztion example). Default is No updating  \n",
    "3) Define covariate columns  \n",
    "4) Define state labels  \n",
    "5) Define minimum number of data transitions needed to fit a transition  \n",
    "6) Define the event specific fitters. Default is CoxWrapper. See custom_fitters for more  "
   ]
  },
  {
   "cell_type": "code",
   "execution_count": 1,
   "metadata": {},
   "outputs": [
    {
     "name": "stderr",
     "output_type": "stream",
     "text": [
      "100%|██████████| 2675/2675 [00:16<00:00, 162.16it/s]\n"
     ]
    }
   ],
   "source": [
    "# Load data\n",
    "from pymsm.datasets import prep_covid_hosp_data\n",
    "\n",
    "dataset, state_labels = prep_covid_hosp_data()\n",
    "\n",
    "\n",
    "# 1) Define terminal states\n",
    "terminal_states = [4]\n",
    "\n",
    "# 2) Define a custom update function for time-varying covariates (See COVID hospitaliztion example). Default is No updating\n",
    "from pymsm.multi_state_competing_risks_model import default_update_covariates_function\n",
    "\n",
    "update_covariates_fn = default_update_covariates_function\n",
    "\n",
    "# 3) Define covariate columns\n",
    "covariate_cols = [\"is_male\", \"age\", \"was_severe\"]\n",
    "\n",
    "# 4) Define state labels\n",
    "state_labels_short = {0: \"C\", 1: \"R\", 2: \"M\", 3: \"S\", 4: \"D\"}\n",
    "\n",
    "# 5) Define minimum number of data transitions needed to fit a transition\n",
    "trim_transitions_threshold = 10\n",
    "\n",
    "# 6) Define the event specific fitters. Default is CoxWrapper. See custom_fitters for more\n",
    "from pymsm.event_specific_fitter import CoxWrapper\n",
    "\n",
    "event_specific_fitter = CoxWrapper\n"
   ]
  },
  {
   "cell_type": "code",
   "execution_count": 2,
   "metadata": {},
   "outputs": [],
   "source": [
    "# Init MultistateModel\n",
    "from pymsm.multi_state_competing_risks_model import MultiStateModel\n",
    "\n",
    "multi_state_model = MultiStateModel(\n",
    "    dataset=dataset,\n",
    "    terminal_states=terminal_states,\n",
    "    update_covariates_fn=update_covariates_fn,\n",
    "    covariate_names=covariate_cols,\n",
    "    state_labels=state_labels_short,\n",
    "    event_specific_fitter=event_specific_fitter,\n",
    "    trim_transitions_threshold=trim_transitions_threshold,\n",
    ")\n"
   ]
  },
  {
   "cell_type": "markdown",
   "metadata": {},
   "source": [
    "Once we have the model initiated properly, we can fit it by simply callinfg the fit() method"
   ]
  },
  {
   "cell_type": "code",
   "execution_count": null,
   "metadata": {},
   "outputs": [],
   "source": [
    "multi_state_model.fit()"
   ]
  }
 ],
 "metadata": {
  "interpreter": {
   "hash": "ce30efa927b55e7c126be5f6b2368fcdd1f3b8d3e47641fae12b26a338d31d0b"
  },
  "kernelspec": {
   "display_name": "Python 3.9.1 ('.venv': poetry)",
   "language": "python",
   "name": "python3"
  },
  "language_info": {
   "codemirror_mode": {
    "name": "ipython",
    "version": 3
   },
   "file_extension": ".py",
   "mimetype": "text/x-python",
   "name": "python",
   "nbconvert_exporter": "python",
   "pygments_lexer": "ipython3",
   "version": "3.9.1"
  },
  "orig_nbformat": 4
 },
 "nbformat": 4,
 "nbformat_minor": 2
}
