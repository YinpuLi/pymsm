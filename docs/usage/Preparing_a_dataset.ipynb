{
 "cells": [
  {
   "cell_type": "markdown",
   "metadata": {},
   "source": [
    "## Preparing a dataset for multistate modeling with PyMSM  \n",
    "\n",
    "The first step of any multistate model is to provide the sample data of paths and covariates.  \n",
    "\n",
    "There are 2 types of dataset formats which can serve as an input:\n",
    "\n",
    "1) a list of `PathObject`  \n",
    "2) a pandas data frame in the format used to fit the `CompetingRiskModel` class  \n",
    "\n",
    "## 1. A list of `PathObject`  \n",
    "Best to see an example:"
   ]
  },
  {
   "cell_type": "code",
   "execution_count": 2,
   "metadata": {},
   "outputs": [
    {
     "name": "stdout",
     "output_type": "stream",
     "text": [
      "dataset type: <class 'list'>\n",
      "elements type: <class 'pymsm.multi_state_competing_risks_model.PathObject'>\n"
     ]
    }
   ],
   "source": [
    "# Load Rotterdam example data\n",
    "from pymsm.datasets import prep_rotterdam\n",
    "dataset, _ = prep_rotterdam()\n",
    "\n",
    "# Print types\n",
    "print('dataset type: {}'.format(type(dataset)))\n",
    "print('elements type: {}'.format(type(dataset[0])))"
   ]
  },
  {
   "cell_type": "markdown",
   "metadata": {},
   "source": [
    "The dataset is a list of elements from class PathObject. Each PathObject in the list corresponds to a single sample’s (i.e “patient’s”) observed path.\n",
    "\n",
    "Let’s look at one such object in detail:  "
   ]
  },
  {
   "cell_type": "code",
   "execution_count": 3,
   "metadata": {},
   "outputs": [
    {
     "name": "stdout",
     "output_type": "stream",
     "text": [
      "Sample id: 1326\n",
      "States: [1, 2, 3]\n",
      "Transition times: [873.999987, 1672.0000989999999]\n",
      "Covariates:\n",
      "year      1990\n",
      "age         44\n",
      "meno         0\n",
      "grade        3\n",
      "nodes       17\n",
      "pgr         40\n",
      "er           7\n",
      "hormon       0\n",
      "chemo        1\n",
      "Name: 1314, dtype: object\n"
     ]
    }
   ],
   "source": [
    "# Display paths and covariates of one sample (#1314)\n",
    "sample_path = dataset[1314]\n",
    "sample_path.print_path()"
   ]
  },
  {
   "cell_type": "markdown",
   "metadata": {},
   "source": [
    "## 2. A pandas dataframe\n",
    "\n",
    "a pandas data frame in the format used to fit the `CompetingRiskModel` class. Let's see one:"
   ]
  },
  {
   "cell_type": "code",
   "execution_count": 4,
   "metadata": {},
   "outputs": [
    {
     "data": {
      "text/html": [
       "<div>\n",
       "<style scoped>\n",
       "    .dataframe tbody tr th:only-of-type {\n",
       "        vertical-align: middle;\n",
       "    }\n",
       "\n",
       "    .dataframe tbody tr th {\n",
       "        vertical-align: top;\n",
       "    }\n",
       "\n",
       "    .dataframe thead th {\n",
       "        text-align: right;\n",
       "    }\n",
       "</style>\n",
       "<table border=\"1\" class=\"dataframe\">\n",
       "  <thead>\n",
       "    <tr style=\"text-align: right;\">\n",
       "      <th></th>\n",
       "      <th>sample_id</th>\n",
       "      <th>origin_state</th>\n",
       "      <th>target_state</th>\n",
       "      <th>time_entry_to_origin</th>\n",
       "      <th>time_transition_to_target</th>\n",
       "      <th>match_no gender mismatch</th>\n",
       "      <th>proph_yes</th>\n",
       "      <th>year_1990-1994</th>\n",
       "      <th>year_1995-1998</th>\n",
       "      <th>agecl_&lt;=20</th>\n",
       "      <th>agecl_&gt;40</th>\n",
       "    </tr>\n",
       "  </thead>\n",
       "  <tbody>\n",
       "    <tr>\n",
       "      <th>0</th>\n",
       "      <td>1</td>\n",
       "      <td>1</td>\n",
       "      <td>2</td>\n",
       "      <td>0.0</td>\n",
       "      <td>22.0</td>\n",
       "      <td>1</td>\n",
       "      <td>0</td>\n",
       "      <td>0</td>\n",
       "      <td>1</td>\n",
       "      <td>0</td>\n",
       "      <td>0</td>\n",
       "    </tr>\n",
       "    <tr>\n",
       "      <th>1</th>\n",
       "      <td>1</td>\n",
       "      <td>2</td>\n",
       "      <td>0</td>\n",
       "      <td>22.0</td>\n",
       "      <td>995.0</td>\n",
       "      <td>1</td>\n",
       "      <td>0</td>\n",
       "      <td>0</td>\n",
       "      <td>1</td>\n",
       "      <td>0</td>\n",
       "      <td>0</td>\n",
       "    </tr>\n",
       "    <tr>\n",
       "      <th>2</th>\n",
       "      <td>2</td>\n",
       "      <td>1</td>\n",
       "      <td>3</td>\n",
       "      <td>0.0</td>\n",
       "      <td>12.0</td>\n",
       "      <td>1</td>\n",
       "      <td>0</td>\n",
       "      <td>0</td>\n",
       "      <td>1</td>\n",
       "      <td>0</td>\n",
       "      <td>0</td>\n",
       "    </tr>\n",
       "    <tr>\n",
       "      <th>3</th>\n",
       "      <td>2</td>\n",
       "      <td>3</td>\n",
       "      <td>4</td>\n",
       "      <td>12.0</td>\n",
       "      <td>29.0</td>\n",
       "      <td>1</td>\n",
       "      <td>0</td>\n",
       "      <td>0</td>\n",
       "      <td>1</td>\n",
       "      <td>0</td>\n",
       "      <td>0</td>\n",
       "    </tr>\n",
       "    <tr>\n",
       "      <th>4</th>\n",
       "      <td>2</td>\n",
       "      <td>4</td>\n",
       "      <td>5</td>\n",
       "      <td>29.0</td>\n",
       "      <td>422.0</td>\n",
       "      <td>1</td>\n",
       "      <td>0</td>\n",
       "      <td>0</td>\n",
       "      <td>1</td>\n",
       "      <td>0</td>\n",
       "      <td>0</td>\n",
       "    </tr>\n",
       "  </tbody>\n",
       "</table>\n",
       "</div>"
      ],
      "text/plain": [
       "   sample_id  origin_state  target_state  time_entry_to_origin  \\\n",
       "0          1             1             2                   0.0   \n",
       "1          1             2             0                  22.0   \n",
       "2          2             1             3                   0.0   \n",
       "3          2             3             4                  12.0   \n",
       "4          2             4             5                  29.0   \n",
       "\n",
       "   time_transition_to_target  match_no gender mismatch  proph_yes  \\\n",
       "0                       22.0                         1          0   \n",
       "1                      995.0                         1          0   \n",
       "2                       12.0                         1          0   \n",
       "3                       29.0                         1          0   \n",
       "4                      422.0                         1          0   \n",
       "\n",
       "   year_1990-1994  year_1995-1998  agecl_<=20  agecl_>40  \n",
       "0               0               1           0          0  \n",
       "1               0               1           0          0  \n",
       "2               0               1           0          0  \n",
       "3               0               1           0          0  \n",
       "4               0               1           0          0  "
      ]
     },
     "execution_count": 4,
     "metadata": {},
     "output_type": "execute_result"
    }
   ],
   "source": [
    "# Load EBMT dataset\n",
    "from pymsm.datasets import prep_ebmt_long\n",
    "competing_risk_dataset, covariate_cols, state_labels = prep_ebmt_long()\n",
    "competing_risk_dataset.head()"
   ]
  },
  {
   "cell_type": "code",
   "execution_count": 5,
   "metadata": {},
   "outputs": [
    {
     "name": "stdout",
     "output_type": "stream",
     "text": [
      "Index(['sample_id', 'origin_state', 'target_state', 'time_entry_to_origin',\n",
      "       'time_transition_to_target', 'match_no gender mismatch', 'proph_yes',\n",
      "       'year_1990-1994', 'year_1995-1998', 'agecl_<=20', 'agecl_>40'],\n",
      "      dtype='object')\n"
     ]
    }
   ],
   "source": [
    "print(competing_risk_dataset.columns)"
   ]
  },
  {
   "cell_type": "markdown",
   "metadata": {},
   "source": [
    "The `competing_risk_dataset` has to include the following columns:  \n",
    "```\n",
    "'sample_id',\n",
    "'origin_state',\n",
    "'target_state',\n",
    "'time_entry_to_origin',\n",
    "'time_transition_to_target'  \n",
    "```\n",
    "\n",
    "which are self-explanatory, as well as any other covariate columns."
   ]
  }
 ],
 "metadata": {
  "interpreter": {
   "hash": "ce30efa927b55e7c126be5f6b2368fcdd1f3b8d3e47641fae12b26a338d31d0b"
  },
  "kernelspec": {
   "display_name": "Python 3 (ipykernel)",
   "language": "python",
   "name": "python3"
  },
  "language_info": {
   "codemirror_mode": {
    "name": "ipython",
    "version": 3
   },
   "file_extension": ".py",
   "mimetype": "text/x-python",
   "name": "python",
   "nbconvert_exporter": "python",
   "pygments_lexer": "ipython3",
   "version": "3.9.7"
  }
 },
 "nbformat": 4,
 "nbformat_minor": 2
}
