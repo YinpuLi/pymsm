{
 "cells": [
  {
   "cell_type": "markdown",
   "metadata": {},
   "source": [
    "Once we have model fitted (see previous section),  \n",
    "we can use it and run Monte-Carlo simualtions to obtain path samples for a given covariate set and state of origin."
   ]
  },
  {
   "cell_type": "code",
   "execution_count": null,
   "metadata": {},
   "outputs": [],
   "source": [
    "# Quickly fit a multistate miodel for Rotterdam data\n",
    "from pymsm.datasets import prep_rotterdam\n",
    "dataset, states_labels = prep_rotterdam()\n",
    "\n",
    "#Init MultistateModel\n",
    "from pymsm.multi_state_competing_risks_model import MultiStateModel, default_update_covariates_function\n",
    "multi_state_model = MultiStateModel(\n",
    "    dataset,\n",
    "    terminal_states=[3],\n",
    "    update_covariates_fn=default_update_covariates_function)\n",
    "\n",
    "# Fit to data\n",
    "multi_state_model.fit()"
   ]
  },
  {
   "cell_type": "markdown",
   "metadata": {},
   "source": [
    "Once the model is ready, we can run the run_monte_carlo_simulation() method which samples random paths using Monte Carlo simulations.  \n",
    "Initial sample covariates, along with the sample’s current state need to be supplied.  \n",
    "The next states are sequentially sampled via the model parameters.  \n",
    "The process concludes when the sample arrives at a terminal state or the number of transitions exceeds the specified maximum,  \n",
    "and returns a list of length n_random_samples, contining the randomly create PathObjects"
   ]
  },
  {
   "cell_type": "code",
   "execution_count": 3,
   "metadata": {},
   "outputs": [
    {
     "name": "stderr",
     "output_type": "stream",
     "text": [
      "100%|██████████| 10/10 [00:07<00:00,  1.42it/s]\n"
     ]
    },
    {
     "name": "stdout",
     "output_type": "stream",
     "text": [
      "States: [1, 2, 3]\n",
      "Transition times: [332.00005223077005, 4342.99995976923]\n",
      "\n",
      "\n",
      "States: [1, 2, 3]\n",
      "Transition times: [631.0000141, 3465.0001279]\n",
      "\n",
      "\n",
      "States: [1, 2, 3]\n",
      "Transition times: [4794.000067, 1373.99982]\n",
      "\n",
      "\n",
      "States: [1, 2, 3]\n",
      "Transition times: [905.9999772, 1476.0000568]\n",
      "\n",
      "\n",
      "States: [1, 2, 3]\n",
      "Transition times: [2382.000034, 2637.000018]\n",
      "\n",
      "\n",
      "States: [1, 2, 3]\n",
      "Transition times: [832.0000313617267, 1102.9999616382734]\n",
      "\n",
      "\n",
      "States: [1, 2, 3]\n",
      "Transition times: [1139.0000637501248, 2711.0000012498754]\n",
      "\n",
      "\n",
      "States: [1, 2, 3]\n",
      "Transition times: [2226.999889, 3038.000241]\n",
      "\n",
      "\n",
      "States: [1, 2, 3]\n",
      "Transition times: [3371.000033, 2339.9998520000004]\n",
      "\n",
      "\n",
      "States: [1, 2, 3]\n",
      "Transition times: [526.0000380373596, 5459.000045962641]\n",
      "\n",
      "\n"
     ]
    }
   ],
   "source": [
    "# Run Monte-carlo simulation\n",
    "simulated_paths = multi_state_model.run_monte_carlo_simulation(\n",
    "              # Initial sample covariates, when entering the origin state\n",
    "              sample_covariates = dataset[0].covariates.values,\n",
    "              # Initial state where the path begins from\n",
    "              origin_state = 1,\n",
    "              # Time when starting the sample path. Defaults to 0.\n",
    "              current_time = 0,\n",
    "              # Number of random paths to create. Defaults to 100.\n",
    "              n_random_samples = 10,\n",
    "              # Max number of transitions to allow in the paths. Defaults to 10.\n",
    "              max_transitions = 2,\n",
    "              # Number of parallel jobs to run. Defaults to -1 (all available).\n",
    "              n_jobs = 3,\n",
    "              # Whether to print the paths or not. Defaults to False.\n",
    "              print_paths=True\n",
    "              )"
   ]
  },
  {
   "cell_type": "code",
   "execution_count": null,
   "metadata": {},
   "outputs": [],
   "source": []
  }
 ],
 "metadata": {
  "interpreter": {
   "hash": "d5215294beb831596eaf28ac2c7d5714ce9ab12d0594ce569bb97f76b082358e"
  },
  "kernelspec": {
   "display_name": "Python 3.9.1 ('pymsm-3fT5GPF--py3.9')",
   "language": "python",
   "name": "python3"
  },
  "language_info": {
   "codemirror_mode": {
    "name": "ipython",
    "version": 3
   },
   "file_extension": ".py",
   "mimetype": "text/x-python",
   "name": "python",
   "nbconvert_exporter": "python",
   "pygments_lexer": "ipython3",
   "version": "3.9.1"
  },
  "orig_nbformat": 4
 },
 "nbformat": 4,
 "nbformat_minor": 2
}
