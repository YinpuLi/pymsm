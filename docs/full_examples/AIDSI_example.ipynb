{
 "cells": [
  {
   "cell_type": "code",
   "execution_count": 1,
   "metadata": {},
   "outputs": [],
   "source": [
    "import numpy as np\n",
    "import pandas as pd\n",
    "import matplotlib.pyplot as plt\n",
    "\n",
    "from pymsm.datasets import load_aidssi, prep_aidssi, plot_aidssi\n",
    "from pymsm.plotting import competingrisks_stackplot\n",
    "\n",
    "%load_ext autoreload\n",
    "%autoreload 2"
   ]
  },
  {
   "cell_type": "markdown",
   "metadata": {},
   "source": [
    "\n",
    "From Data Analysis with Competing Risks and Intermediate States, Book by Ronald B. Geskus: \n",
    "\n",
    "The data contains information on two event types, “AIDS” and “SI”, which compete to be the first to occur. \n",
    "Time is given in years since HIV infection. There are two different representations of the information on the event type that occurred first.  \n",
    "In the cause column, the event type is described in words, whereas in the status column a numeric respresentation is used.  \n",
    "The ccr5 column contains the information on the presence of the deletion CCR5-∆32. Individuals that don’t have the deletion have the value WW (W stands for “wild type”). Individuals that have the deletion on one of the chromosomes have the value WM (M stands for “mutation”)\n",
    "\n",
    "See also: https://www.rdocumentation.org/packages/mstate/versions/0.3.1/topics/aidssi"
   ]
  },
  {
   "cell_type": "code",
   "execution_count": 2,
   "metadata": {},
   "outputs": [
    {
     "data": {
      "text/html": [
       "<div>\n",
       "<style scoped>\n",
       "    .dataframe tbody tr th:only-of-type {\n",
       "        vertical-align: middle;\n",
       "    }\n",
       "\n",
       "    .dataframe tbody tr th {\n",
       "        vertical-align: top;\n",
       "    }\n",
       "\n",
       "    .dataframe thead th {\n",
       "        text-align: right;\n",
       "    }\n",
       "</style>\n",
       "<table border=\"1\" class=\"dataframe\">\n",
       "  <thead>\n",
       "    <tr style=\"text-align: right;\">\n",
       "      <th></th>\n",
       "      <th>patnr</th>\n",
       "      <th>time</th>\n",
       "      <th>status</th>\n",
       "      <th>cause</th>\n",
       "      <th>ccr5</th>\n",
       "    </tr>\n",
       "  </thead>\n",
       "  <tbody>\n",
       "    <tr>\n",
       "      <th>1</th>\n",
       "      <td>1</td>\n",
       "      <td>9.106</td>\n",
       "      <td>1</td>\n",
       "      <td>AIDS</td>\n",
       "      <td>WW</td>\n",
       "    </tr>\n",
       "    <tr>\n",
       "      <th>2</th>\n",
       "      <td>2</td>\n",
       "      <td>11.039</td>\n",
       "      <td>0</td>\n",
       "      <td>event-free</td>\n",
       "      <td>WM</td>\n",
       "    </tr>\n",
       "    <tr>\n",
       "      <th>3</th>\n",
       "      <td>3</td>\n",
       "      <td>2.234</td>\n",
       "      <td>1</td>\n",
       "      <td>AIDS</td>\n",
       "      <td>WW</td>\n",
       "    </tr>\n",
       "    <tr>\n",
       "      <th>4</th>\n",
       "      <td>4</td>\n",
       "      <td>9.878</td>\n",
       "      <td>2</td>\n",
       "      <td>SI</td>\n",
       "      <td>WM</td>\n",
       "    </tr>\n",
       "    <tr>\n",
       "      <th>5</th>\n",
       "      <td>5</td>\n",
       "      <td>3.819</td>\n",
       "      <td>1</td>\n",
       "      <td>AIDS</td>\n",
       "      <td>WW</td>\n",
       "    </tr>\n",
       "  </tbody>\n",
       "</table>\n",
       "</div>"
      ],
      "text/plain": [
       "   patnr    time  status       cause ccr5\n",
       "1      1   9.106       1        AIDS   WW\n",
       "2      2  11.039       0  event-free   WM\n",
       "3      3   2.234       1        AIDS   WW\n",
       "4      4   9.878       2          SI   WM\n",
       "5      5   3.819       1        AIDS   WW"
      ]
     },
     "execution_count": 2,
     "metadata": {},
     "output_type": "execute_result"
    }
   ],
   "source": [
    "data = load_aidssi()\n",
    "data.head()"
   ]
  },
  {
   "cell_type": "code",
   "execution_count": 3,
   "metadata": {},
   "outputs": [
    {
     "data": {
      "text/html": [
       "<div>\n",
       "<style scoped>\n",
       "    .dataframe tbody tr th:only-of-type {\n",
       "        vertical-align: middle;\n",
       "    }\n",
       "\n",
       "    .dataframe tbody tr th {\n",
       "        vertical-align: top;\n",
       "    }\n",
       "\n",
       "    .dataframe thead th {\n",
       "        text-align: right;\n",
       "    }\n",
       "</style>\n",
       "<table border=\"1\" class=\"dataframe\">\n",
       "  <thead>\n",
       "    <tr style=\"text-align: right;\">\n",
       "      <th></th>\n",
       "      <th>sample_id</th>\n",
       "      <th>time_entry_to_origin</th>\n",
       "      <th>origin_state</th>\n",
       "      <th>target_state</th>\n",
       "      <th>time_transition_to_target</th>\n",
       "      <th>ccr5_WW</th>\n",
       "    </tr>\n",
       "  </thead>\n",
       "  <tbody>\n",
       "    <tr>\n",
       "      <th>0</th>\n",
       "      <td>1</td>\n",
       "      <td>0</td>\n",
       "      <td>1</td>\n",
       "      <td>2</td>\n",
       "      <td>9.106</td>\n",
       "      <td>1</td>\n",
       "    </tr>\n",
       "    <tr>\n",
       "      <th>1</th>\n",
       "      <td>2</td>\n",
       "      <td>0</td>\n",
       "      <td>1</td>\n",
       "      <td>0</td>\n",
       "      <td>11.039</td>\n",
       "      <td>0</td>\n",
       "    </tr>\n",
       "    <tr>\n",
       "      <th>2</th>\n",
       "      <td>3</td>\n",
       "      <td>0</td>\n",
       "      <td>1</td>\n",
       "      <td>2</td>\n",
       "      <td>2.234</td>\n",
       "      <td>1</td>\n",
       "    </tr>\n",
       "    <tr>\n",
       "      <th>3</th>\n",
       "      <td>4</td>\n",
       "      <td>0</td>\n",
       "      <td>1</td>\n",
       "      <td>3</td>\n",
       "      <td>9.878</td>\n",
       "      <td>0</td>\n",
       "    </tr>\n",
       "    <tr>\n",
       "      <th>4</th>\n",
       "      <td>5</td>\n",
       "      <td>0</td>\n",
       "      <td>1</td>\n",
       "      <td>2</td>\n",
       "      <td>3.819</td>\n",
       "      <td>1</td>\n",
       "    </tr>\n",
       "  </tbody>\n",
       "</table>\n",
       "</div>"
      ],
      "text/plain": [
       "   sample_id  time_entry_to_origin  origin_state  target_state  \\\n",
       "0          1                     0             1             2   \n",
       "1          2                     0             1             0   \n",
       "2          3                     0             1             2   \n",
       "3          4                     0             1             3   \n",
       "4          5                     0             1             2   \n",
       "\n",
       "   time_transition_to_target  ccr5_WW  \n",
       "0                      9.106        1  \n",
       "1                     11.039        0  \n",
       "2                      2.234        1  \n",
       "3                      9.878        0  \n",
       "4                      3.819        1  "
      ]
     },
     "execution_count": 3,
     "metadata": {},
     "output_type": "execute_result"
    }
   ],
   "source": [
    "competing_risk_dataset, covariate_cols, state_labels = prep_aidssi(data)\n",
    "competing_risk_dataset.head()"
   ]
  },
  {
   "cell_type": "code",
   "execution_count": 4,
   "metadata": {},
   "outputs": [
    {
     "data": {
      "text/html": [
       "<img src=\"https://mermaid.ink/img/c3RhdGVEaWFncmFtLXYyCnMxIDogKDEpIEV2ZW50LWZyZWUKczIgOiAoMikgQUlEUwpzMyA6ICgzKSBTSQpzMSAtLT4gczI6IDExMyAKczEgLS0+IHMzOiAxMDcgCgo=\"/>"
      ],
      "text/plain": [
       "<IPython.core.display.Image object>"
      ]
     },
     "metadata": {},
     "output_type": "display_data"
    }
   ],
   "source": [
    "plot_aidssi(competing_risk_dataset, state_labels)"
   ]
  },
  {
   "cell_type": "code",
   "execution_count": 6,
   "metadata": {},
   "outputs": [
    {
     "data": {
      "image/png": "[encoded data removed]",
      "text/plain": [
       "<Figure size 432x288 with 1 Axes>"
      ]
     },
     "metadata": {
      "needs_background": "light"
     },
     "output_type": "display_data"
    }
   ],
   "source": [
    "competingrisks_stackplot(\n",
    "    data=competing_risk_dataset,\n",
    "    duration_col='time_transition_to_target',\n",
    "    event_col ='target_state',\n",
    "    order_top= [2],\n",
    "    order_bottom = [3],\n",
    "    state_labels = state_labels);"
   ]
  }
 ],
 "metadata": {
  "interpreter": {
   "hash": "75245bec35210ab08e7172c93719ec93a5ec38f67703239b6585339df04b4818"
  },
  "kernelspec": {
   "display_name": "Python 3.9.0 64-bit ('pymsm': conda)",
   "language": "python",
   "name": "python3"
  },
  "language_info": {
   "codemirror_mode": {
    "name": "ipython",
    "version": 3
   },
   "file_extension": ".py",
   "mimetype": "text/x-python",
   "name": "python",
   "nbconvert_exporter": "python",
   "pygments_lexer": "ipython3",
   "version": "3.8.10"
  },
  "orig_nbformat": 4
 },
 "nbformat": 4,
 "nbformat_minor": 2
}
