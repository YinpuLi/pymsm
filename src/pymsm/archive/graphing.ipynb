{
 "cells": [
  {
   "cell_type": "code",
   "execution_count": 1,
   "metadata": {},
   "outputs": [],
   "source": [
    "from pymsm.plotting import state_diagram"
   ]
  },
  {
   "cell_type": "code",
   "execution_count": 2,
   "metadata": {},
   "outputs": [
    {
     "data": {
      "text/html": [
       "<img src=\"https://mermaid.ink/img/c3RhdGVEaWFncmFtLXYyCiAgICBzMSA6ICgxKSBQcmltYXJ5IHN1cmdlcnkKICAgIHMyOiAoMikgRGlzZWFzZSByZWN1cnJlbmNlCiAgICBzMzogKDMpIERlYXRoCiAgICBzMSAtLT4gczIKICAgIHMxIC0tPiBzMwogICAgczIgLS0+IHMzCg==\"/>"
      ],
      "text/plain": [
       "<IPython.core.display.Image object>"
      ]
     },
     "execution_count": 2,
     "metadata": {},
     "output_type": "execute_result"
    }
   ],
   "source": [
    "from pymsm.plotting import state_diagram\n",
    "\n",
    "img = state_diagram(\n",
    "    \"\"\"\n",
    "    s1 : (1) Primary surgery\n",
    "    s2: (2) Disease recurrence\n",
    "    s3: (3) Death\n",
    "    s1 --> s2\n",
    "    s1 --> s3\n",
    "    s2 --> s3\n",
    "\"\"\"\n",
    ")\n",
    "img\n"
   ]
  },
  {
   "cell_type": "code",
   "execution_count": 21,
   "metadata": {},
   "outputs": [],
   "source": []
  },
  {
   "cell_type": "code",
   "execution_count": 22,
   "metadata": {},
   "outputs": [
    {
     "data": {
      "text/html": [
       "<img src=\"https://mermaid.ink/img/c3RhdGVEaWFncmFtLXYyCgpzMSA6ICgxKSBQcmltYXJ5IHN1cmdlcnkKczI6ICgyKSBEaXNlYXNlIHJlY3VycmVuY2UKczM6ICgzKSBEZWF0aApzMSAtLT4gczIKczEgLS0+IHMzCnMyIC0tPiBzMwo=\"/>"
      ],
      "text/plain": [
       "<IPython.core.display.Image object>"
      ]
     },
     "execution_count": 22,
     "metadata": {},
     "output_type": "execute_result"
    }
   ],
   "source": [
    "state_diagram(graph)"
   ]
  },
  {
   "cell_type": "code",
   "execution_count": null,
   "metadata": {},
   "outputs": [],
   "source": []
  }
 ],
 "metadata": {
  "interpreter": {
   "hash": "d5215294beb831596eaf28ac2c7d5714ce9ab12d0594ce569bb97f76b082358e"
  },
  "kernelspec": {
   "display_name": "Python 3.9.1 ('pymsm-3fT5GPF--py3.9')",
   "language": "python",
   "name": "python3"
  },
  "language_info": {
   "codemirror_mode": {
    "name": "ipython",
    "version": 3
   },
   "file_extension": ".py",
   "mimetype": "text/x-python",
   "name": "python",
   "nbconvert_exporter": "python",
   "pygments_lexer": "ipython3",
   "version": "3.9.1"
  },
  "orig_nbformat": 4
 },
 "nbformat": 4,
 "nbformat_minor": 2
}
