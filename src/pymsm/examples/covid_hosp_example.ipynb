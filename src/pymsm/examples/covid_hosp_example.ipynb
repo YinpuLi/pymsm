{
 "cells": [
  {
   "cell_type": "code",
   "execution_count": 5,
   "metadata": {},
   "outputs": [
    {
     "name": "stdout",
     "output_type": "stream",
     "text": [
      "The autoreload extension is already loaded. To reload it, use:\n",
      "  %reload_ext autoreload\n"
     ]
    }
   ],
   "source": [
    "import pandas as pd\n",
    "import numpy as np\n",
    "from pymsm.datasets import prep_covid_hosp_data\n",
    "from pymsm.multi_state_competing_risks_model import MultiStateModel\n",
    "\n",
    "# from pymsm.plotting import stackplot, stackplot_state_timesteps, stackplot_state_timesteps_from_paths\n",
    "from pymsm.statistics import (\n",
    "    prob_visited_states,\n",
    "    stats_total_time_at_states,\n",
    ")\n",
    "\n",
    "%load_ext autoreload\n",
    "%autoreload 2"
   ]
  },
  {
   "cell_type": "markdown",
   "metadata": {},
   "source": [
    "# Load Covid hospitalization data set  \n",
    "raw public data available at https://github.com/JonathanSomer/covid-19-multi-state-model/blob/master/data/data_for_paper.csv"
   ]
  },
  {
   "cell_type": "code",
   "execution_count": 6,
   "metadata": {},
   "outputs": [
    {
     "name": "stderr",
     "output_type": "stream",
     "text": [
      "100%|██████████| 2675/2675 [00:09<00:00, 289.74it/s]\n"
     ]
    }
   ],
   "source": [
    "covid_dataset = prep_covid_hosp_data()\n",
    "\n",
    "# Some path definitions\n",
    "covariate_cols = [\"is_male\", \"age\"]\n",
    "states_labels_long = {0: \"Censored\", 1: \"Discharged\\Recovered\", 2: \"Mild or Moderate\", 3: \"Severe\", 4: \"Deceased\"}\n",
    "states_labels = {0: \"C\", 1: \"R\", 2: \"M\", 3: \"S\", 4: \"D\"}\n",
    "terminal_states = [4]"
   ]
  },
  {
   "cell_type": "markdown",
   "metadata": {},
   "source": [
    "Let's look at one patients path"
   ]
  },
  {
   "cell_type": "code",
   "execution_count": 7,
   "metadata": {},
   "outputs": [
    {
     "name": "stdout",
     "output_type": "stream",
     "text": [
      "Sample id: 577\n",
      "States: [2 3 4]\n",
      "Transition times: [ 6 31]\n",
      "Covariates:\n",
      "is_male     1.0\n",
      "age        72.5\n",
      "Name: 567, dtype: float64\n"
     ]
    }
   ],
   "source": [
    "covid_dataset[567].print_path()"
   ]
  },
  {
   "cell_type": "markdown",
   "metadata": {},
   "source": [
    "# Let's fit the Multistate model"
   ]
  },
  {
   "cell_type": "code",
   "execution_count": 8,
   "metadata": {},
   "outputs": [
    {
     "name": "stdout",
     "output_type": "stream",
     "text": [
      "Fitting Model at State: 2\n",
      ">>> Fitting Transition to State: 1, n events: 2135\n",
      ">>> Fitting Transition to State: 3, n events: 275\n",
      ">>> Fitting Transition to State: 4, n events: 52\n",
      "Fitting Model at State: 1\n",
      ">>> Fitting Transition to State: 2, n events: 98\n",
      ">>> Fitting Transition to State: 3, n events: 2\n",
      "Fitting Model at State: 3\n",
      ">>> Fitting Transition to State: 2, n events: 193\n"
     ]
    },
    {
     "name": "stderr",
     "output_type": "stream",
     "text": [
      "/home/hagair/anaconda3/envs/pymsm/lib/python3.9/site-packages/lifelines/utils/__init__.py:1123: ConvergenceWarning: Column is_male have very low variance when conditioned on death event present or not. This may harm convergence. This could be a form of 'complete separation'. For example, try the following code:\n",
      "\n",
      ">>> events = df['target_state'].astype(bool)\n",
      ">>> print(df.loc[events, 'is_male'].var())\n",
      ">>> print(df.loc[~events, 'is_male'].var())\n",
      "\n",
      "A very low variance means that the column is_male completely determines whether a subject dies or not. See https://stats.stackexchange.com/questions/11109/how-to-deal-with-perfect-separation-in-logistic-regression.\n",
      "\n",
      "  warnings.warn(dedent(warning_text), ConvergenceWarning)\n",
      "/home/hagair/anaconda3/envs/pymsm/lib/python3.9/site-packages/lifelines/fitters/coxph_fitter.py:1594: ConvergenceWarning: Newton-Rhaphson convergence completed successfully but norm(delta) is still high, 0.497. This may imply non-unique solutions to the maximum likelihood. Perhaps there is collinearity or complete separation in the dataset?\n",
      "\n",
      "  warnings.warn(\n"
     ]
    },
    {
     "name": "stdout",
     "output_type": "stream",
     "text": [
      ">>> Fitting Transition to State: 1, n events: 9\n",
      ">>> Fitting Transition to State: 4, n events: 135\n"
     ]
    }
   ],
   "source": [
    "def default_update_covariates_function(\n",
    "    covariates_entering_origin_state,\n",
    "    origin_state=None,\n",
    "    target_state=None,\n",
    "    time_at_origin=None,\n",
    "    abs_time_entry_to_target_state=None,\n",
    "):\n",
    "    return covariates_entering_origin_state\n",
    "\n",
    "\n",
    "multi_state_model = MultiStateModel(\n",
    "    covid_dataset, terminal_states, default_update_covariates_function, covariate_cols,\n",
    ")\n",
    "\n",
    "\n",
    "multi_state_model.fit()\n"
   ]
  },
  {
   "cell_type": "markdown",
   "metadata": {},
   "source": [
    "# Single patient stats  \n",
    "Let's take a look at how the model models transitions for a single patient - a female aged 75"
   ]
  },
  {
   "cell_type": "code",
   "execution_count": 9,
   "metadata": {},
   "outputs": [
    {
     "name": "stderr",
     "output_type": "stream",
     "text": [
      "100%|██████████| 10/10 [00:00<00:00, 48.92it/s]\n"
     ]
    }
   ],
   "source": [
    "# Run MC for a sample single patient\n",
    "mc_paths = multi_state_model.run_monte_carlo_simulation(\n",
    "    sample_covariates=pd.Series({\"is_male\":0, \"age\":75}),\n",
    "    origin_state=2,\n",
    "    current_time=0,\n",
    "    n_random_samples=10,\n",
    "    max_transitions=10,\n",
    "    print_paths=False,\n",
    "    n_jobs=-1\n",
    ")"
   ]
  },
  {
   "cell_type": "code",
   "execution_count": 11,
   "metadata": {},
   "outputs": [
    {
     "name": "stdout",
     "output_type": "stream",
     "text": [
      "Probabilty of ever being Discharged\\Recovered = 0.1\n",
      "Probabilty of ever being Mild or Moderate = 1.0\n",
      "Probabilty of ever being Severe = 0.3\n",
      "Probabilty of ever being Deceased = 1.0\n"
     ]
    },
    {
     "data": {
      "text/html": [
       "<div>\n",
       "<style scoped>\n",
       "    .dataframe tbody tr th:only-of-type {\n",
       "        vertical-align: middle;\n",
       "    }\n",
       "\n",
       "    .dataframe tbody tr th {\n",
       "        vertical-align: top;\n",
       "    }\n",
       "\n",
       "    .dataframe thead th {\n",
       "        text-align: right;\n",
       "    }\n",
       "</style>\n",
       "<table border=\"1\" class=\"dataframe\">\n",
       "  <thead>\n",
       "    <tr style=\"text-align: right;\">\n",
       "      <th></th>\n",
       "      <th>Discharged\\Recovered</th>\n",
       "      <th>Mild or Moderate</th>\n",
       "      <th>Severe</th>\n",
       "    </tr>\n",
       "  </thead>\n",
       "  <tbody>\n",
       "    <tr>\n",
       "      <th>time_in_state_mean</th>\n",
       "      <td>2.2</td>\n",
       "      <td>3.000</td>\n",
       "      <td>0.500</td>\n",
       "    </tr>\n",
       "    <tr>\n",
       "      <th>time_in_state_std</th>\n",
       "      <td>6.6</td>\n",
       "      <td>2.145</td>\n",
       "      <td>1.025</td>\n",
       "    </tr>\n",
       "    <tr>\n",
       "      <th>time_in_state_median</th>\n",
       "      <td>0.0</td>\n",
       "      <td>2.000</td>\n",
       "      <td>0.000</td>\n",
       "    </tr>\n",
       "    <tr>\n",
       "      <th>time_in_state_min</th>\n",
       "      <td>0.0</td>\n",
       "      <td>1.000</td>\n",
       "      <td>0.000</td>\n",
       "    </tr>\n",
       "    <tr>\n",
       "      <th>time_in_state_max</th>\n",
       "      <td>22.0</td>\n",
       "      <td>8.000</td>\n",
       "      <td>3.000</td>\n",
       "    </tr>\n",
       "    <tr>\n",
       "      <th>time_in_state_quantile_0.1</th>\n",
       "      <td>0.0</td>\n",
       "      <td>1.000</td>\n",
       "      <td>0.000</td>\n",
       "    </tr>\n",
       "    <tr>\n",
       "      <th>time_in_state_quantile_0.25</th>\n",
       "      <td>0.0</td>\n",
       "      <td>2.000</td>\n",
       "      <td>0.000</td>\n",
       "    </tr>\n",
       "    <tr>\n",
       "      <th>time_in_state_quantile_0.75</th>\n",
       "      <td>0.0</td>\n",
       "      <td>3.000</td>\n",
       "      <td>0.000</td>\n",
       "    </tr>\n",
       "    <tr>\n",
       "      <th>time_in_state_quantile_0.9</th>\n",
       "      <td>2.2</td>\n",
       "      <td>6.200</td>\n",
       "      <td>2.100</td>\n",
       "    </tr>\n",
       "  </tbody>\n",
       "</table>\n",
       "</div>"
      ],
      "text/plain": [
       "                             Discharged\\Recovered  Mild or Moderate  Severe\n",
       "time_in_state_mean                            2.2             3.000   0.500\n",
       "time_in_state_std                             6.6             2.145   1.025\n",
       "time_in_state_median                          0.0             2.000   0.000\n",
       "time_in_state_min                             0.0             1.000   0.000\n",
       "time_in_state_max                            22.0             8.000   3.000\n",
       "time_in_state_quantile_0.1                    0.0             1.000   0.000\n",
       "time_in_state_quantile_0.25                   0.0             2.000   0.000\n",
       "time_in_state_quantile_0.75                   0.0             3.000   0.000\n",
       "time_in_state_quantile_0.9                    2.2             6.200   2.100"
      ]
     },
     "execution_count": 11,
     "metadata": {},
     "output_type": "execute_result"
    }
   ],
   "source": [
    "# Probability of visiting any of the states\n",
    "for state, state_label in states_labels_long.items():\n",
    "    if state == 0:\n",
    "        continue\n",
    "    print(\n",
    "        f\"Probabilty of ever being {state_label} = {prob_visited_states(mc_paths, states=[state])}\"\n",
    "    )\n",
    "\n",
    "\n",
    "# Stats for times at states\n",
    "dfs = []\n",
    "for state, state_label in states_labels_long.items():\n",
    "    if state == 0 or state in terminal_states:\n",
    "        continue\n",
    "    dfs.append(\n",
    "        pd.DataFrame(\n",
    "            data=stats_total_time_at_states(mc_paths, states=[state]),\n",
    "            index=[state_label],\n",
    "        )\n",
    "    )\n",
    "pd.concat(dfs).round(3).T\n"
   ]
  },
  {
   "cell_type": "code",
   "execution_count": 12,
   "metadata": {},
   "outputs": [],
   "source": [
    "from collections import Counter\n",
    "\n",
    "\n",
    "def get_path_frequencies(paths, states_labels=None):\n",
    "    states_list = []\n",
    "    for path in paths:\n",
    "        states_list.append(path.states)\n",
    "        \n",
    "    # Change from numbers to labels\n",
    "    if states_labels is not None:\n",
    "        states_list = [[states_labels[y] for y in x] for x in states_list]\n",
    "\n",
    "    counter = Counter(tuple(x) for x in states_list)\n",
    "    path_freqs = {str(k).replace(\", \", \"->\").replace(\"(\", \"\").replace(\")\", \"\").replace(\"'\",\"\").replace(\",\", \"\"):v for k,v in counter.items()}\n",
    "    return pd.Series(path_freqs).sort_values(ascending=False)"
   ]
  },
  {
   "cell_type": "code",
   "execution_count": 17,
   "metadata": {},
   "outputs": [
    {
     "data": {
      "text/plain": [
       "M->R                               1906\n",
       "M                                   202\n",
       "M->S                                 76\n",
       "S->D                                 74\n",
       "M->S->D                              59\n",
       "M->S->M->R                           46\n",
       "M->D                                 44\n",
       "M->R->M->R                           42\n",
       "S                                    42\n",
       "M->R->M                              36\n",
       "M->S->M                              35\n",
       "S->M->R                              28\n",
       "S->M                                 27\n",
       "M->S->M->S                            8\n",
       "S->R                                  6\n",
       "S->M->S                               5\n",
       "S->M->S->M->R                         3\n",
       "S->M->D                               3\n",
       "M->S->M->S->M                         3\n",
       "M->S->M->S->M->R                      3\n",
       "M->R->M->R->M->R                      3\n",
       "M->S->R                               3\n",
       "S->M->S->D                            2\n",
       "M->S->M->D                            2\n",
       "M->R->M->S                            2\n",
       "S->M->S->M->S->M                      2\n",
       "M->R->M->D                            2\n",
       "M->R->M->R->M                         2\n",
       "M->R->S                               1\n",
       "M->R->M->R->M->R->M->R->M->R->C       1\n",
       "M->S->M->R->M->R                      1\n",
       "M->R->S->M->R                         1\n",
       "S->M->S->M->S->M->R                   1\n",
       "S->M->S->M->D                         1\n",
       "S->M->R->M                            1\n",
       "M->S->M->S->M->S->M                   1\n",
       "M->S->M->S->M->S                      1\n",
       "dtype: int64"
      ]
     },
     "execution_count": 17,
     "metadata": {},
     "output_type": "execute_result"
    }
   ],
   "source": [
    "path_freqs = get_path_frequencies(covid_dataset, states_labels)\n",
    "path_freqs"
   ]
  },
  {
   "cell_type": "code",
   "execution_count": null,
   "metadata": {},
   "outputs": [],
   "source": []
  }
 ],
 "metadata": {
  "interpreter": {
   "hash": "75245bec35210ab08e7172c93719ec93a5ec38f67703239b6585339df04b4818"
  },
  "kernelspec": {
   "display_name": "Python 3.9.0 ('pymsm')",
   "language": "python",
   "name": "python3"
  },
  "language_info": {
   "codemirror_mode": {
    "name": "ipython",
    "version": 3
   },
   "file_extension": ".py",
   "mimetype": "text/x-python",
   "name": "python",
   "nbconvert_exporter": "python",
   "pygments_lexer": "ipython3",
   "version": "3.9.0"
  },
  "orig_nbformat": 4
 },
 "nbformat": 4,
 "nbformat_minor": 2
}
