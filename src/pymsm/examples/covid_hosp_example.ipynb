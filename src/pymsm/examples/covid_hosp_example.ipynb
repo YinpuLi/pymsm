{
 "cells": [
  {
   "cell_type": "code",
   "execution_count": 1,
   "metadata": {},
   "outputs": [],
   "source": [
    "import pandas as pd\n",
    "import numpy as np\n",
    "from pymsm.datasets import prep_covid_hosp_data\n",
    "from pymsm.multi_state_competing_risks_model import MultiStateModel\n",
    "\n",
    "%load_ext autoreload\n",
    "%autoreload 2\n"
   ]
  },
  {
   "cell_type": "code",
   "execution_count": 2,
   "metadata": {},
   "outputs": [
    {
     "name": "stderr",
     "output_type": "stream",
     "text": [
      "100%|██████████| 2675/2675 [00:15<00:00, 171.66it/s]\n"
     ]
    }
   ],
   "source": [
    "covid_dataset = prep_covid_hosp_data()"
   ]
  },
  {
   "cell_type": "code",
   "execution_count": 3,
   "metadata": {},
   "outputs": [
    {
     "name": "stdout",
     "output_type": "stream",
     "text": [
      "Fitting Model at State: 23\n",
      ">>> Fitting Transition to State: 16, n events: 2135\n",
      ">>> Fitting Transition to State: 4, n events: 275\n",
      ">>> Fitting Transition to State: 5, n events: 52\n",
      "Fitting Model at State: 16\n",
      ">>> Fitting Transition to State: 23, n events: 98\n",
      ">>> Fitting Transition to State: 4, n events: 2\n"
     ]
    },
    {
     "name": "stderr",
     "output_type": "stream",
     "text": [
      "/home/hagair/anaconda3/envs/pymsm/lib/python3.9/site-packages/lifelines/utils/__init__.py:1123: ConvergenceWarning: Column is_male have very low variance when conditioned on death event present or not. This may harm convergence. This could be a form of 'complete separation'. For example, try the following code:\n",
      "\n",
      ">>> events = df['target_state'].astype(bool)\n",
      ">>> print(df.loc[events, 'is_male'].var())\n",
      ">>> print(df.loc[~events, 'is_male'].var())\n",
      "\n",
      "A very low variance means that the column is_male completely determines whether a subject dies or not. See https://stats.stackexchange.com/questions/11109/how-to-deal-with-perfect-separation-in-logistic-regression.\n",
      "\n",
      "  warnings.warn(dedent(warning_text), ConvergenceWarning)\n",
      "/home/hagair/anaconda3/envs/pymsm/lib/python3.9/site-packages/lifelines/fitters/coxph_fitter.py:1594: ConvergenceWarning: Newton-Rhaphson convergence completed successfully but norm(delta) is still high, 0.497. This may imply non-unique solutions to the maximum likelihood. Perhaps there is collinearity or complete separation in the dataset?\n",
      "\n",
      "  warnings.warn(\n"
     ]
    },
    {
     "name": "stdout",
     "output_type": "stream",
     "text": [
      "Fitting Model at State: 4\n",
      ">>> Fitting Transition to State: 23, n events: 193\n",
      ">>> Fitting Transition to State: 16, n events: 9\n",
      ">>> Fitting Transition to State: 5, n events: 135\n"
     ]
    }
   ],
   "source": [
    "def default_update_covariates_function(\n",
    "    covariates_entering_origin_state,\n",
    "    origin_state=None,\n",
    "    target_state=None,\n",
    "    time_at_origin=None,\n",
    "    abs_time_entry_to_target_state=None,\n",
    "):\n",
    "    return covariates_entering_origin_state\n",
    "\n",
    "\n",
    "terminal_states = [5]\n",
    "covariate_cols = [\"is_male\", \"age\"]\n",
    "\n",
    "multi_state_model = MultiStateModel(\n",
    "    covid_dataset, terminal_states, default_update_covariates_function, covariate_cols,\n",
    ")\n",
    "\n",
    "\n",
    "multi_state_model.fit()\n"
   ]
  }
 ],
 "metadata": {
  "interpreter": {
   "hash": "75245bec35210ab08e7172c93719ec93a5ec38f67703239b6585339df04b4818"
  },
  "kernelspec": {
   "display_name": "Python 3.9.0 ('pymsm')",
   "language": "python",
   "name": "python3"
  },
  "language_info": {
   "codemirror_mode": {
    "name": "ipython",
    "version": 3
   },
   "file_extension": ".py",
   "mimetype": "text/x-python",
   "name": "python",
   "nbconvert_exporter": "python",
   "pygments_lexer": "ipython3",
   "version": "3.9.0"
  },
  "orig_nbformat": 4
 },
 "nbformat": 4,
 "nbformat_minor": 2
}
