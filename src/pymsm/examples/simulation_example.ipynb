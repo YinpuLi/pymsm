{
 "cells": [
  {
   "cell_type": "code",
   "execution_count": 1,
   "metadata": {},
   "outputs": [],
   "source": [
    "import numpy as np\n",
    "from pymsm.simulation import MultiStateSimulator, default_update_covariates_function\n",
    "\n",
    "%load_ext autoreload\n",
    "%autoreload 2"
   ]
  },
  {
   "cell_type": "markdown",
   "metadata": {},
   "source": [
    "# Rossi - single state example"
   ]
  },
  {
   "cell_type": "code",
   "execution_count": 4,
   "metadata": {},
   "outputs": [
    {
     "name": "stderr",
     "output_type": "stream",
     "text": [
      "100%|██████████| 10/10 [00:00<00:00, 1114.94it/s]"
     ]
    },
    {
     "name": "stdout",
     "output_type": "stream",
     "text": [
      "[1, 2]\n",
      "[45.0]\n",
      "[1, 2]\n",
      "[11.0]\n",
      "[1, 2]\n",
      "[27.0]\n",
      "[1, 2]\n",
      "[23.0]\n",
      "[1, 2]\n",
      "[19.0]\n",
      "[1, 2]\n",
      "[25.0]\n",
      "[1, 2]\n",
      "[37.0]\n",
      "[1, 2]\n",
      "[49.0]\n",
      "[1, 2]\n",
      "[24.0]\n",
      "[1, 2]\n",
      "[48.0]\n"
     ]
    },
    {
     "name": "stderr",
     "output_type": "stream",
     "text": [
      "\n"
     ]
    }
   ],
   "source": [
    "# Load rossi dataset\n",
    "from lifelines.datasets import load_rossi\n",
    "\n",
    "rossi = load_rossi()\n",
    "from lifelines import CoxPHFitter\n",
    "\n",
    "cph = CoxPHFitter()\n",
    "cph.fit(rossi, duration_col=\"week\", event_col=\"arrest\")\n",
    "baseline_hazard = cph.baseline_hazard_[\"baseline hazard\"]\n",
    "coefs = cph.params_\n",
    "\n",
    "from pymsm.datasets import load_rossi_competing_risk_data\n",
    "\n",
    "rossi_competing_risk_data, covariate_names = load_rossi_competing_risk_data()\n",
    "\n",
    "# Define the full model\n",
    "competing_risks_models_list = [\n",
    "    {\n",
    "        \"origin_state\": 1,\n",
    "        \"target_states\": [2],\n",
    "        \"model_defs\": {\"coefs\": coefs, \"baseline_hazard\": baseline_hazard},\n",
    "    }\n",
    "]\n",
    "\n",
    "# Configure the simulator\n",
    "mssim = MultiStateSimulator(\n",
    "    competing_risks_models_list,\n",
    "    terminal_states=[2],\n",
    "    update_covariates_fn=default_update_covariates_function,\n",
    "    covariate_names=covariate_names,\n",
    ")\n",
    "\n",
    "# Run simulation\n",
    "mc_paths = mssim.run_monte_carlo_simulation(\n",
    "    sample_covariates=rossi_competing_risk_data.loc[0, covariate_names],\n",
    "    origin_state=1,\n",
    "    current_time=0,\n",
    "    n_random_samples=10,\n",
    "    max_transitions=10,\n",
    "    print_paths=True,\n",
    ")\n"
   ]
  },
  {
   "cell_type": "code",
   "execution_count": null,
   "metadata": {},
   "outputs": [],
   "source": []
  }
 ],
 "metadata": {
  "interpreter": {
   "hash": "75245bec35210ab08e7172c93719ec93a5ec38f67703239b6585339df04b4818"
  },
  "kernelspec": {
   "display_name": "Python 3.9.0 ('pymsm')",
   "language": "python",
   "name": "python3"
  },
  "language_info": {
   "codemirror_mode": {
    "name": "ipython",
    "version": 3
   },
   "file_extension": ".py",
   "mimetype": "text/x-python",
   "name": "python",
   "nbconvert_exporter": "python",
   "pygments_lexer": "ipython3",
   "version": "3.9.0"
  },
  "orig_nbformat": 4
 },
 "nbformat": 4,
 "nbformat_minor": 2
}
