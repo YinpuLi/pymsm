{
 "cells": [
  {
   "cell_type": "code",
   "execution_count": 11,
   "metadata": {},
   "outputs": [
    {
     "name": "stdout",
     "output_type": "stream",
     "text": [
      "The autoreload extension is already loaded. To reload it, use:\n",
      "  %reload_ext autoreload\n"
     ]
    },
    {
     "name": "stderr",
     "output_type": "stream",
     "text": [
      "[autoreload of pymsm.event_specific_fitter failed: Traceback (most recent call last):\n",
      "  File \"/home/hagair/anaconda3/envs/pymsm/lib/python3.9/site-packages/IPython/extensions/autoreload.py\", line 245, in check\n",
      "    superreload(m, reload, self.old_objects)\n",
      "  File \"/home/hagair/anaconda3/envs/pymsm/lib/python3.9/site-packages/IPython/extensions/autoreload.py\", line 394, in superreload\n",
      "    module = reload(module)\n",
      "  File \"/home/hagair/anaconda3/envs/pymsm/lib/python3.9/imp.py\", line 314, in reload\n",
      "    return importlib.reload(module)\n",
      "  File \"/home/hagair/anaconda3/envs/pymsm/lib/python3.9/importlib/__init__.py\", line 169, in reload\n",
      "    _bootstrap._exec(spec, module)\n",
      "  File \"<frozen importlib._bootstrap>\", line 613, in _exec\n",
      "  File \"<frozen importlib._bootstrap_external>\", line 790, in exec_module\n",
      "  File \"<frozen importlib._bootstrap>\", line 228, in _call_with_frames_removed\n",
      "  File \"/home/hagair/repo/pymsm/src/pymsm/event_specific_fitter.py\", line 2, in <module>\n",
      "    from sksurv.tree import SurvivalTree\n",
      "ModuleNotFoundError: No module named 'sksurv'\n",
      "]\n"
     ]
    }
   ],
   "source": [
    "import numpy as np\n",
    "import pandas as pd\n",
    "import matplotlib.pyplot as plt\n",
    "\n",
    "from pymsm.plotting import stackplot\n",
    "from pymsm.simulation import MultiStateSimulator, default_update_covariates_function\n",
    "\n",
    "%load_ext autoreload\n",
    "%autoreload 2"
   ]
  },
  {
   "cell_type": "markdown",
   "metadata": {},
   "source": [
    "# Rossi - single state example"
   ]
  },
  {
   "cell_type": "code",
   "execution_count": 12,
   "metadata": {},
   "outputs": [
    {
     "name": "stderr",
     "output_type": "stream",
     "text": [
      "100%|██████████| 1000/1000 [00:00<00:00, 2253.43it/s]\n"
     ]
    }
   ],
   "source": [
    "# Load rossi dataset\n",
    "from lifelines.datasets import load_rossi\n",
    "\n",
    "rossi = load_rossi()\n",
    "from lifelines import CoxPHFitter\n",
    "\n",
    "cph = CoxPHFitter()\n",
    "cph.fit(rossi, duration_col=\"week\", event_col=\"arrest\")\n",
    "baseline_hazard = cph.baseline_hazard_[\"baseline hazard\"]\n",
    "coefs = cph.params_\n",
    "\n",
    "from pymsm.datasets import load_rossi_competing_risk_data\n",
    "\n",
    "rossi_competing_risk_data, covariate_names = load_rossi_competing_risk_data()\n",
    "\n",
    "### Define the full model ###\n",
    "competing_risks_models_list = [\n",
    "    {\n",
    "        \"origin_state\": 1,\n",
    "        \"target_states\": [2],\n",
    "        \"model_defs\": [{\"coefs\": coefs, \"baseline_hazard\": baseline_hazard}],\n",
    "    }\n",
    "]\n",
    "\n",
    "# Configure the simulator\n",
    "mssim = MultiStateSimulator(\n",
    "    competing_risks_models_list,\n",
    "    terminal_states=[2],\n",
    "    update_covariates_fn=default_update_covariates_function,\n",
    "    covariate_names=covariate_names,\n",
    ")\n",
    "\n",
    "# Run simulation\n",
    "mc_paths = mssim.run_monte_carlo_simulation(\n",
    "    sample_covariates=rossi_competing_risk_data.loc[0, covariate_names],\n",
    "    origin_state=1,\n",
    "    current_time=0,\n",
    "    n_random_samples=1000,\n",
    "    max_transitions=10,\n",
    "    print_paths=False,\n",
    ")\n"
   ]
  },
  {
   "cell_type": "markdown",
   "metadata": {},
   "source": [
    "# 2 state example - AIDS-SI"
   ]
  },
  {
   "cell_type": "code",
   "execution_count": 13,
   "metadata": {},
   "outputs": [
    {
     "data": {
      "text/html": [
       "<div>\n",
       "<style scoped>\n",
       "    .dataframe tbody tr th:only-of-type {\n",
       "        vertical-align: middle;\n",
       "    }\n",
       "\n",
       "    .dataframe tbody tr th {\n",
       "        vertical-align: top;\n",
       "    }\n",
       "\n",
       "    .dataframe thead th {\n",
       "        text-align: right;\n",
       "    }\n",
       "</style>\n",
       "<table border=\"1\" class=\"dataframe\">\n",
       "  <thead>\n",
       "    <tr style=\"text-align: right;\">\n",
       "      <th></th>\n",
       "      <th>patnr</th>\n",
       "      <th>time</th>\n",
       "      <th>status</th>\n",
       "      <th>cause</th>\n",
       "      <th>ccr5</th>\n",
       "    </tr>\n",
       "  </thead>\n",
       "  <tbody>\n",
       "    <tr>\n",
       "      <th>1</th>\n",
       "      <td>1</td>\n",
       "      <td>9.106</td>\n",
       "      <td>1</td>\n",
       "      <td>AIDS</td>\n",
       "      <td>WW</td>\n",
       "    </tr>\n",
       "    <tr>\n",
       "      <th>2</th>\n",
       "      <td>2</td>\n",
       "      <td>11.039</td>\n",
       "      <td>0</td>\n",
       "      <td>event-free</td>\n",
       "      <td>WM</td>\n",
       "    </tr>\n",
       "    <tr>\n",
       "      <th>3</th>\n",
       "      <td>3</td>\n",
       "      <td>2.234</td>\n",
       "      <td>1</td>\n",
       "      <td>AIDS</td>\n",
       "      <td>WW</td>\n",
       "    </tr>\n",
       "    <tr>\n",
       "      <th>4</th>\n",
       "      <td>4</td>\n",
       "      <td>9.878</td>\n",
       "      <td>2</td>\n",
       "      <td>SI</td>\n",
       "      <td>WM</td>\n",
       "    </tr>\n",
       "    <tr>\n",
       "      <th>5</th>\n",
       "      <td>5</td>\n",
       "      <td>3.819</td>\n",
       "      <td>1</td>\n",
       "      <td>AIDS</td>\n",
       "      <td>WW</td>\n",
       "    </tr>\n",
       "  </tbody>\n",
       "</table>\n",
       "</div>"
      ],
      "text/plain": [
       "   patnr    time  status       cause ccr5\n",
       "1      1   9.106       1        AIDS   WW\n",
       "2      2  11.039       0  event-free   WM\n",
       "3      3   2.234       1        AIDS   WW\n",
       "4      4   9.878       2          SI   WM\n",
       "5      5   3.819       1        AIDS   WW"
      ]
     },
     "execution_count": 13,
     "metadata": {},
     "output_type": "execute_result"
    }
   ],
   "source": [
    "from pymsm.datasets import load_aidssi\n",
    "\n",
    "data = load_aidssi()\n",
    "data.head()\n",
    "\n",
    "\n",
    "# TODO \n"
   ]
  },
  {
   "cell_type": "markdown",
   "metadata": {},
   "source": [
    "# Many-state example - EBMT"
   ]
  },
  {
   "cell_type": "code",
   "execution_count": 14,
   "metadata": {},
   "outputs": [
    {
     "name": "stderr",
     "output_type": "stream",
     "text": [
      "/home/hagair/anaconda3/envs/pymsm/lib/python3.9/site-packages/sklearn/utils/deprecation.py:87: FutureWarning: Function get_feature_names is deprecated; get_feature_names is deprecated in 1.0 and will be removed in 1.2. Please use get_feature_names_out instead.\n",
      "  warnings.warn(msg, category=FutureWarning)\n"
     ]
    },
    {
     "name": "stdout",
     "output_type": "stream",
     "text": [
      "Fitting Model at State: 1\n",
      ">>> Fitting Transition to State: 2, n events: 785\n",
      ">>> Fitting Transition to State: 3, n events: 907\n",
      ">>> Fitting Transition to State: 5, n events: 95\n",
      ">>> Fitting Transition to State: 6, n events: 160\n",
      "Fitting Model at State: 2\n",
      ">>> Fitting Transition to State: 5, n events: 112\n",
      ">>> Fitting Transition to State: 6, n events: 39\n",
      ">>> Fitting Transition to State: 4, n events: 227\n",
      "Fitting Model at State: 3\n",
      ">>> Fitting Transition to State: 4, n events: 433\n",
      ">>> Fitting Transition to State: 6, n events: 197\n",
      ">>> Fitting Transition to State: 5, n events: 56\n",
      "Fitting Model at State: 4\n",
      ">>> Fitting Transition to State: 5, n events: 107\n",
      ">>> Fitting Transition to State: 6, n events: 137\n"
     ]
    }
   ],
   "source": [
    "# Fit model from data and extract model parts for simulation\n",
    "\n",
    "from pymsm.datasets import prep_ebmt_long\n",
    "competing_risk_dataset, covariate_cols, states_labels = prep_ebmt_long()\n",
    "\n",
    "from pymsm.multi_state_competing_risks_model import MultiStateModel\n",
    "multi_state_model = MultiStateModel(\n",
    "    dataset=competing_risk_dataset,\n",
    "    terminal_states = [5, 6],\n",
    "    update_covariates_fn=default_update_covariates_function,\n",
    "    covariate_names=covariate_cols,\n",
    "    competing_risk_data_format=True,\n",
    ")\n",
    "\n",
    "multi_state_model.fit()\n"
   ]
  },
  {
   "cell_type": "code",
   "execution_count": 15,
   "metadata": {},
   "outputs": [
    {
     "name": "stdout",
     "output_type": "stream",
     "text": [
      "1 2 <pymsm.competing_risks_model.EventSpecificModel object at 0x7f3af0cccc40>\n",
      "1 3 <pymsm.competing_risks_model.EventSpecificModel object at 0x7f3b12d2b2b0>\n",
      "1 5 <pymsm.competing_risks_model.EventSpecificModel object at 0x7f3af0981cd0>\n",
      "1 6 <pymsm.competing_risks_model.EventSpecificModel object at 0x7f3af15074f0>\n",
      "2 5 <pymsm.competing_risks_model.EventSpecificModel object at 0x7f3af0cc4eb0>\n",
      "2 6 <pymsm.competing_risks_model.EventSpecificModel object at 0x7f3b3031f430>\n",
      "2 4 <pymsm.competing_risks_model.EventSpecificModel object at 0x7f3af25c5370>\n",
      "3 4 <pymsm.competing_risks_model.EventSpecificModel object at 0x7f3af14dff10>\n",
      "3 6 <pymsm.competing_risks_model.EventSpecificModel object at 0x7f3af14dc730>\n",
      "3 5 <pymsm.competing_risks_model.EventSpecificModel object at 0x7f3af3e63160>\n",
      "4 5 <pymsm.competing_risks_model.EventSpecificModel object at 0x7f3af3df2340>\n",
      "4 6 <pymsm.competing_risks_model.EventSpecificModel object at 0x7f3af3e080a0>\n"
     ]
    }
   ],
   "source": [
    "from pymsm.simulation import extract_competing_risks_models_list_from_msm\n",
    "\n",
    "competing_risks_models_list = extract_competing_risks_models_list_from_msm(\n",
    "    multi_state_model, verbose=True\n",
    ")\n",
    "\n",
    "# Configure the simulator\n",
    "mssim = MultiStateSimulator(\n",
    "    competing_risks_models_list,\n",
    "    terminal_states=[5, 6],\n",
    "    update_covariates_fn=default_update_covariates_function,\n",
    "    covariate_names=covariate_cols,\n",
    ")\n"
   ]
  },
  {
   "cell_type": "code",
   "execution_count": 16,
   "metadata": {},
   "outputs": [
    {
     "name": "stderr",
     "output_type": "stream",
     "text": [
      "100%|██████████| 10/10 [00:00<00:00, 119.61it/s]"
     ]
    },
    {
     "name": "stdout",
     "output_type": "stream",
     "text": [
      "[1, 2, 4, 6]\n",
      "[19.000075513725566, 14.999938494675956, 140.0000829825837]\n",
      "[1, 3, 4, 6]\n",
      "[10.000023167170138, 229.99997683282987, 3382.000080839735]\n",
      "[1, 3, 4, 6]\n",
      "[20.00008129857387, 19.999956128505705, 677.9999625729204]\n",
      "[1, 2, 4, 6]\n",
      "[34.00008530094555, 0.9999667058565649, 2183.999947993198]\n",
      "[1, 2, 4, 6]\n",
      "[23.00009063543851, 4.999948038096118, 245.00001380210853]\n",
      "[1, 3, 4, 5]\n",
      "[13.000073789691669, 96.99993779721429, 65.99998841309404]\n",
      "[1, 6]\n",
      "[49.00004513870243]\n",
      "[1, 2, 5]\n",
      "[15.000039447627858, 2609.000053021734]\n",
      "[1, 3, 4, 5]\n",
      "[13.000089482735042, 74.99991051726496, 581.0]\n",
      "[1, 3, 6]\n",
      "[10.000059089294318, 3.999952727188445]\n"
     ]
    },
    {
     "name": "stderr",
     "output_type": "stream",
     "text": [
      "\n"
     ]
    }
   ],
   "source": [
    "# Run simulation\n",
    "mc_paths = mssim.run_monte_carlo_simulation(\n",
    "    sample_covariates=competing_risk_dataset.loc[0, covariate_cols],\n",
    "    origin_state=1,\n",
    "    current_time=0,\n",
    "    n_random_samples=10,\n",
    "    max_transitions=10,\n",
    "    print_paths=True,\n",
    ")"
   ]
  },
  {
   "cell_type": "code",
   "execution_count": null,
   "metadata": {},
   "outputs": [],
   "source": []
  }
 ],
 "metadata": {
  "interpreter": {
   "hash": "75245bec35210ab08e7172c93719ec93a5ec38f67703239b6585339df04b4818"
  },
  "kernelspec": {
   "display_name": "Python 3.9.0 ('pymsm')",
   "language": "python",
   "name": "python3"
  },
  "language_info": {
   "codemirror_mode": {
    "name": "ipython",
    "version": 3
   },
   "file_extension": ".py",
   "mimetype": "text/x-python",
   "name": "python",
   "nbconvert_exporter": "python",
   "pygments_lexer": "ipython3",
   "version": "3.9.0"
  },
  "orig_nbformat": 4
 },
 "nbformat": 4,
 "nbformat_minor": 2
}
