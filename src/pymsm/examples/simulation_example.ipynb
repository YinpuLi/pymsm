{
 "cells": [
  {
   "cell_type": "code",
   "execution_count": 1,
   "metadata": {},
   "outputs": [],
   "source": [
    "import numpy as np\n",
    "import pandas as pd\n",
    "import matplotlib.pyplot as plt\n",
    "\n",
    "from pymsm.plotting import stackplot\n",
    "from pymsm.simulation import MultiStateSimulator, default_update_covariates_function\n",
    "\n",
    "%load_ext autoreload\n",
    "%autoreload 2"
   ]
  },
  {
   "cell_type": "markdown",
   "metadata": {},
   "source": [
    "# Rossi - single state example"
   ]
  },
  {
   "cell_type": "code",
   "execution_count": 2,
   "metadata": {},
   "outputs": [
    {
     "name": "stderr",
     "output_type": "stream",
     "text": [
      "100%|██████████| 1000/1000 [00:01<00:00, 798.98it/s]\n"
     ]
    }
   ],
   "source": [
    "# Load rossi dataset\n",
    "from lifelines.datasets import load_rossi\n",
    "\n",
    "rossi = load_rossi()\n",
    "from lifelines import CoxPHFitter\n",
    "\n",
    "cph = CoxPHFitter()\n",
    "cph.fit(rossi, duration_col=\"week\", event_col=\"arrest\")\n",
    "baseline_hazard = cph.baseline_hazard_[\"baseline hazard\"]\n",
    "coefs = cph.params_\n",
    "\n",
    "from pymsm.datasets import load_rossi_competing_risk_data\n",
    "\n",
    "rossi_competing_risk_data, covariate_names = load_rossi_competing_risk_data()\n",
    "\n",
    "### Define the full model ###\n",
    "competing_risks_models_list = [\n",
    "    {\n",
    "        \"origin_state\": 1,\n",
    "        \"target_states\": [2],\n",
    "        \"model_defs\": [{\"coefs\": coefs, \"baseline_hazard\": baseline_hazard}],\n",
    "    }\n",
    "]\n",
    "\n",
    "# Configure the simulator\n",
    "mssim = MultiStateSimulator(\n",
    "    competing_risks_models_list,\n",
    "    terminal_states=[2],\n",
    "    update_covariates_fn=default_update_covariates_function,\n",
    "    covariate_names=covariate_names,\n",
    ")\n",
    "\n",
    "# Run simulation\n",
    "mc_paths = mssim.run_monte_carlo_simulation(\n",
    "    sample_covariates=rossi_competing_risk_data.loc[0, covariate_names],\n",
    "    origin_state=1,\n",
    "    current_time=0,\n",
    "    n_random_samples=1000,\n",
    "    max_transitions=10,\n",
    "    print_paths=False,\n",
    ")\n"
   ]
  },
  {
   "cell_type": "markdown",
   "metadata": {},
   "source": [
    "# 2 state example - AIDS-SI"
   ]
  },
  {
   "cell_type": "code",
   "execution_count": 3,
   "metadata": {},
   "outputs": [
    {
     "data": {
      "text/html": [
       "<div>\n",
       "<style scoped>\n",
       "    .dataframe tbody tr th:only-of-type {\n",
       "        vertical-align: middle;\n",
       "    }\n",
       "\n",
       "    .dataframe tbody tr th {\n",
       "        vertical-align: top;\n",
       "    }\n",
       "\n",
       "    .dataframe thead th {\n",
       "        text-align: right;\n",
       "    }\n",
       "</style>\n",
       "<table border=\"1\" class=\"dataframe\">\n",
       "  <thead>\n",
       "    <tr style=\"text-align: right;\">\n",
       "      <th></th>\n",
       "      <th>patnr</th>\n",
       "      <th>time</th>\n",
       "      <th>status</th>\n",
       "      <th>cause</th>\n",
       "      <th>ccr5</th>\n",
       "    </tr>\n",
       "  </thead>\n",
       "  <tbody>\n",
       "    <tr>\n",
       "      <th>1</th>\n",
       "      <td>1</td>\n",
       "      <td>9.106</td>\n",
       "      <td>1</td>\n",
       "      <td>AIDS</td>\n",
       "      <td>WW</td>\n",
       "    </tr>\n",
       "    <tr>\n",
       "      <th>2</th>\n",
       "      <td>2</td>\n",
       "      <td>11.039</td>\n",
       "      <td>0</td>\n",
       "      <td>event-free</td>\n",
       "      <td>WM</td>\n",
       "    </tr>\n",
       "    <tr>\n",
       "      <th>3</th>\n",
       "      <td>3</td>\n",
       "      <td>2.234</td>\n",
       "      <td>1</td>\n",
       "      <td>AIDS</td>\n",
       "      <td>WW</td>\n",
       "    </tr>\n",
       "    <tr>\n",
       "      <th>4</th>\n",
       "      <td>4</td>\n",
       "      <td>9.878</td>\n",
       "      <td>2</td>\n",
       "      <td>SI</td>\n",
       "      <td>WM</td>\n",
       "    </tr>\n",
       "    <tr>\n",
       "      <th>5</th>\n",
       "      <td>5</td>\n",
       "      <td>3.819</td>\n",
       "      <td>1</td>\n",
       "      <td>AIDS</td>\n",
       "      <td>WW</td>\n",
       "    </tr>\n",
       "  </tbody>\n",
       "</table>\n",
       "</div>"
      ],
      "text/plain": [
       "   patnr    time  status       cause ccr5\n",
       "1      1   9.106       1        AIDS   WW\n",
       "2      2  11.039       0  event-free   WM\n",
       "3      3   2.234       1        AIDS   WW\n",
       "4      4   9.878       2          SI   WM\n",
       "5      5   3.819       1        AIDS   WW"
      ]
     },
     "execution_count": 3,
     "metadata": {},
     "output_type": "execute_result"
    }
   ],
   "source": [
    "from pymsm.datasets import load_aidssi\n",
    "\n",
    "data = load_aidssi()\n",
    "data.head()\n",
    "\n",
    "\n",
    "# TODO \n"
   ]
  },
  {
   "cell_type": "markdown",
   "metadata": {},
   "source": [
    "# Many-state example - EBMT"
   ]
  },
  {
   "cell_type": "code",
   "execution_count": 4,
   "metadata": {},
   "outputs": [
    {
     "name": "stdout",
     "output_type": "stream",
     "text": [
      "Fitting Model at State: 1\n",
      ">>> Fitting Transition to State: 2, n events: 785\n",
      ">>> Fitting Transition to State: 3, n events: 907\n",
      ">>> Fitting Transition to State: 5, n events: 95\n",
      ">>> Fitting Transition to State: 6, n events: 160\n",
      "Fitting Model at State: 2\n",
      ">>> Fitting Transition to State: 5, n events: 112\n",
      ">>> Fitting Transition to State: 6, n events: 39\n",
      ">>> Fitting Transition to State: 4, n events: 227\n",
      "Fitting Model at State: 3\n",
      ">>> Fitting Transition to State: 4, n events: 433\n",
      ">>> Fitting Transition to State: 6, n events: 197\n",
      ">>> Fitting Transition to State: 5, n events: 56\n",
      "Fitting Model at State: 4\n",
      ">>> Fitting Transition to State: 5, n events: 107\n",
      ">>> Fitting Transition to State: 6, n events: 137\n"
     ]
    }
   ],
   "source": [
    "# Fit model from data and extract model parts for simulation\n",
    "\n",
    "from pymsm.datasets import prep_ebmt_long\n",
    "competing_risk_dataset, covariate_cols, states_labels = prep_ebmt_long()\n",
    "\n",
    "from pymsm.multi_state_competing_risks_model import MultiStateModel\n",
    "multi_state_model = MultiStateModel(\n",
    "    dataset=competing_risk_dataset,\n",
    "    terminal_states = [5, 6],\n",
    "    update_covariates_fn=default_update_covariates_function,\n",
    "    covariate_names=covariate_cols,\n",
    "    competing_risk_data_format=True,\n",
    ")\n",
    "\n",
    "multi_state_model.fit()\n"
   ]
  },
  {
   "cell_type": "code",
   "execution_count": 8,
   "metadata": {},
   "outputs": [
    {
     "name": "stdout",
     "output_type": "stream",
     "text": [
      "1 2 <pymsm.competing_risks_model.EventSpecificModel object at 0x7f3af155ddf0>\n",
      "1 3 <pymsm.competing_risks_model.EventSpecificModel object at 0x7f3af2dfe220>\n",
      "1 5 <pymsm.competing_risks_model.EventSpecificModel object at 0x7f3af2dfe040>\n",
      "1 6 <pymsm.competing_risks_model.EventSpecificModel object at 0x7f3af14e40a0>\n",
      "2 5 <pymsm.competing_risks_model.EventSpecificModel object at 0x7f3af149c2e0>\n",
      "2 6 <pymsm.competing_risks_model.EventSpecificModel object at 0x7f3af155d670>\n",
      "2 4 <pymsm.competing_risks_model.EventSpecificModel object at 0x7f3af157af70>\n",
      "3 4 <pymsm.competing_risks_model.EventSpecificModel object at 0x7f3af15125e0>\n",
      "3 6 <pymsm.competing_risks_model.EventSpecificModel object at 0x7f3af14a5e80>\n",
      "3 5 <pymsm.competing_risks_model.EventSpecificModel object at 0x7f3af14a5fd0>\n",
      "4 5 <pymsm.competing_risks_model.EventSpecificModel object at 0x7f3af095c8b0>\n",
      "4 6 <pymsm.competing_risks_model.EventSpecificModel object at 0x7f3af095cf40>\n"
     ]
    }
   ],
   "source": [
    "from pymsm.simulation import extract_competing_risks_models_list_from_msm\n",
    "\n",
    "competing_risks_models_list = extract_competing_risks_models_list_from_msm(\n",
    "    multi_state_model, verbose=True\n",
    ")\n",
    "\n",
    "# Configure the simulator\n",
    "mssim = MultiStateSimulator(\n",
    "    competing_risks_models_list,\n",
    "    terminal_states=[5, 6],\n",
    "    update_covariates_fn=default_update_covariates_function,\n",
    "    covariate_names=covariate_cols,\n",
    ")\n"
   ]
  },
  {
   "cell_type": "code",
   "execution_count": 10,
   "metadata": {},
   "outputs": [
    {
     "name": "stderr",
     "output_type": "stream",
     "text": [
      "100%|██████████| 10/10 [00:00<00:00, 3530.86it/s]"
     ]
    },
    {
     "name": "stdout",
     "output_type": "stream",
     "text": [
      "[1, 3, 4, 6]\n",
      "[20.000094023024143, 99.99994182354871, 4272.999964153427]\n",
      "[1, 3, 5]\n",
      "[23.00005203077009, 405.0000072106868]\n",
      "[1, 3, 6]\n",
      "[40.00004858717592, 39.000045085822954]\n",
      "[1, 2, 5]\n",
      "[24.00000891244321, 95.00002772374113]\n",
      "[1, 2, 4, 6]\n",
      "[19.000075513725566, 9.999926917871075, 2307.999997568403]\n",
      "[1, 6]\n",
      "[19.000023818278105]\n",
      "[1, 2, 4, 6]\n",
      "[21.0000862042651, 0.9999680601983734, 2196.9999457355366]\n",
      "[1, 3, 5]\n",
      "[21.000079729536576, 3015.9999202704635]\n",
      "[1, 3, 4, 6]\n",
      "[15.000069514455404, 53.999943887067445, 1508.999986598477]\n",
      "[1, 2, 4, 6]\n",
      "[19.000088420646335, 1.9999365085765781, 88.00000616900925]\n"
     ]
    },
    {
     "name": "stderr",
     "output_type": "stream",
     "text": [
      "\n"
     ]
    }
   ],
   "source": [
    "# Run simulation\n",
    "mc_paths = mssim.run_monte_carlo_simulation(\n",
    "    sample_covariates=competing_risk_dataset.loc[0, covariate_cols],\n",
    "    origin_state=1,\n",
    "    current_time=0,\n",
    "    n_random_samples=10,\n",
    "    max_transitions=10,\n",
    "    print_paths=True,\n",
    ")"
   ]
  },
  {
   "cell_type": "code",
   "execution_count": null,
   "metadata": {},
   "outputs": [],
   "source": []
  }
 ],
 "metadata": {
  "interpreter": {
   "hash": "75245bec35210ab08e7172c93719ec93a5ec38f67703239b6585339df04b4818"
  },
  "kernelspec": {
   "display_name": "Python 3.9.0 ('pymsm')",
   "language": "python",
   "name": "python3"
  },
  "language_info": {
   "codemirror_mode": {
    "name": "ipython",
    "version": 3
   },
   "file_extension": ".py",
   "mimetype": "text/x-python",
   "name": "python",
   "nbconvert_exporter": "python",
   "pygments_lexer": "ipython3",
   "version": "3.9.0"
  },
  "orig_nbformat": 4
 },
 "nbformat": 4,
 "nbformat_minor": 2
}
