{
 "cells": [
  {
   "cell_type": "markdown",
   "metadata": {},
   "source": [
    "# Multi-State Model first example"
   ]
  },
  {
   "cell_type": "markdown",
   "metadata": {},
   "source": [
    "## In this notebook"
   ]
  },
  {
   "cell_type": "markdown",
   "metadata": {},
   "source": [
    "This notebook provides a simple setting which illustrates basic usage of the model."
   ]
  },
  {
   "cell_type": "markdown",
   "metadata": {},
   "source": [
    "## Typical settings"
   ]
  },
  {
   "cell_type": "markdown",
   "metadata": {},
   "source": [
    "In a typical setting of modelling patient illness trajectories, there are multiple sources of complexity:\n",
    "\n",
    "1. There could be many states (mild, severe, recovered, released from hospital, death etc.)\n",
    "2. The probability of each transition and the duration of the stay in each state depend on patient covariates.\n",
    "3. Patient covariates can change over time, possibly in a manner which depends on the states visited.\n",
    "\n",
    "In order to introduce the multi-state-model we shall use a much simpler setting where our data arrives from a simple 3 state model and covariates do not change over time or affect the probabilities of transitions between states."
   ]
  },
  {
   "cell_type": "markdown",
   "metadata": {},
   "source": [
    "## A Simple Multi-State Setting"
   ]
  },
  {
   "cell_type": "markdown",
   "metadata": {},
   "source": [
    "Patients start at state 1, state 3 shall be a terminal state and states 1,2 shall be identical in the sense that from both:\n",
    "\n",
    "1. With probability 1/2 you transition to state 3 within 1 day.\n",
    "2. With probability 1/2 you transition to state 2 or 1 (depending on the present state), within $t∼exp(λ)$"
   ]
  },
  {
   "cell_type": "code",
   "execution_count": 1,
   "metadata": {},
   "outputs": [
    {
     "data": {
      "image/png": "[encoded data removed]",
      "text/plain": [
       "<IPython.core.display.Image object>"
      ]
     },
     "execution_count": 1,
     "metadata": {},
     "output_type": "execute_result"
    }
   ],
   "source": [
    "from IPython.display import Image\n",
    "Image(filename='toy_setting.png')"
   ]
  },
  {
   "cell_type": "markdown",
   "metadata": {},
   "source": [
    "A simple Multi-State Model"
   ]
  },
  {
   "cell_type": "markdown",
   "metadata": {},
   "source": [
    "For this setting, one can show that the expected time until reaching a terminal state is $1+\\frac{1}{λ}$ (see proof at the end of this notebook.)"
   ]
  },
  {
   "cell_type": "markdown",
   "metadata": {},
   "source": [
    "## The Dataset Structure"
   ]
  },
  {
   "cell_type": "markdown",
   "metadata": {},
   "source": [
    "Let’s load the dataset, which was constructed based on the graph above"
   ]
  },
  {
   "cell_type": "code",
   "execution_count": 2,
   "metadata": {},
   "outputs": [
    {
     "name": "stdout",
     "output_type": "stream",
     "text": [
      "dataset type: <class 'list'>\n",
      "elemnets type: <class 'pymsm.multi_state_competing_risks_model.PathObject'>\n"
     ]
    }
   ],
   "source": [
    "from pymsm.examples.first_example_utils import create_toy_setting_dataset\n",
    "dataset = create_toy_setting_dataset(lambda_param=2)\n",
    "print('dataset type: {}'.format(type(dataset)))\n",
    "print('elemnets type: {}'.format(type(dataset[0])))"
   ]
  },
  {
   "cell_type": "markdown",
   "metadata": {},
   "source": [
    "The dataset is a list of elements from class PathObject. Each PathObject in the list corresponds to a single sample’s (i.e “patient’s”) observed path. Let’s look at one such object in detail:"
   ]
  },
  {
   "cell_type": "code",
   "execution_count": 3,
   "metadata": {},
   "outputs": [
    {
     "name": "stdout",
     "output_type": "stream",
     "text": [
      "<class 'pymsm.multi_state_competing_risks_model.PathObject'>\n",
      "\n",
      "------covariates------\n",
      "a    2.913171\n",
      "b    0.676251\n",
      "dtype: float64\n",
      "\n",
      "-------states---------\n",
      "[1, 3]\n",
      "\n",
      "--time at each state--\n",
      "[1]\n",
      "\n",
      "------sample id-------\n",
      "0\n"
     ]
    }
   ],
   "source": [
    "first_path = dataset[0]\n",
    "print(type(first_path))\n",
    "\n",
    "print('\\n------covariates------')\n",
    "print(first_path.covariates)\n",
    "\n",
    "print('\\n-------states---------')\n",
    "print(first_path.states)\n",
    "\n",
    "print('\\n--time at each state--')\n",
    "print(first_path.time_at_each_state)\n",
    "\n",
    "print('\\n------sample id-------')\n",
    "print(first_path.sample_id)"
   ]
  },
  {
   "cell_type": "markdown",
   "metadata": {},
   "source": [
    "We see the following attributes:\n",
    "\n",
    "1. *covariates* : These are the sample’s covariates. In this case they were randomally generated and do not affect the state transitions, but for a patient this could be a numerical vector with entries such as:\n",
    "    * “age in years”\n",
    "    * “is male”\n",
    "    * “number of days that have passed since hospitalization”\n",
    "    * etc..\n",
    "2. *states* : These are the observed states the sample visited, encoded as positive integers. Here we can see the back and forth between states 1 and 2, ending with the only terminal state (state 3).\n",
    "3. *time_at_each_state* : These are the observed times spent at each state.\n",
    "4. *sample_id* : (optional) a unique identifier of the patient.\n",
    "\n",
    "Note: if the last state is a terminal state, then the vector of times should be shorter than the vector of states by 1. Conversely, if the last state is not a terminal state, then the length of the vector of times should be the same as that of the states. In such a case, the sample is inferred to be right censored."
   ]
  },
  {
   "cell_type": "markdown",
   "metadata": {},
   "source": [
    "# Visualize transition"
   ]
  },
  {
   "cell_type": "markdown",
   "metadata": {},
   "source": []
  },
  {
   "cell_type": "code",
   "execution_count": null,
   "metadata": {},
   "outputs": [],
   "source": [
    "dataset"
   ]
  },
  {
   "cell_type": "code",
   "execution_count": null,
   "metadata": {},
   "outputs": [],
   "source": [
    "origin_state = 1\n",
    "stackplot_data = competing_risk_dataset[\n",
    "    competing_risk_dataset[\"origin_state\"] == origin_state\n",
    "].sample(100)\n",
    "\n",
    "stackplot(\n",
    "    data=stackplot_data,\n",
    "    origin_state=origin_state,\n",
    "    duration_col=\"time_transition_to_target\",\n",
    "    event_col=\"target_state\",\n",
    "    order_top=[2, 3],\n",
    "    order_bottom=[5, 6],\n",
    "    labels=states_labels,\n",
    ")\n"
   ]
  },
  {
   "cell_type": "markdown",
   "metadata": {},
   "source": [
    "## Updating Covariates Over Time"
   ]
  },
  {
   "cell_type": "markdown",
   "metadata": {},
   "source": [
    "In order to update the patient covariates over time, we need to define a state-transition function.\n",
    "In this simple case, the covariates do not change and the function is trivial"
   ]
  },
  {
   "cell_type": "code",
   "execution_count": null,
   "metadata": {},
   "outputs": [],
   "source": [
    "def default_update_covariates_function(covariates_entering_origin_state, origin_state=None, target_state=None,\n",
    "                                       time_at_origin=None, abs_time_entry_to_target_state=None):\n",
    "    return covariates_entering_origin_state"
   ]
  },
  {
   "cell_type": "markdown",
   "metadata": {},
   "source": [
    "You can define any function, as long as it recieves the following parameter types (in this order): \n",
    "1. pandas Series (sample covariates when entering the origin state)\n",
    "2. int (origin state number)\n",
    "3. int (target state number)\n",
    "4. float (time spent at origin state)\n",
    "5. float (absolute time of entry to target state)\n",
    "\n",
    "If some of the parameters are not used in the function, use a default value of None, as in the example above."
   ]
  },
  {
   "cell_type": "markdown",
   "metadata": {},
   "source": [
    "## Defining terminal states"
   ]
  },
  {
   "cell_type": "code",
   "execution_count": null,
   "metadata": {},
   "outputs": [],
   "source": [
    "terminal_states = [3]"
   ]
  },
  {
   "cell_type": "markdown",
   "metadata": {},
   "source": [
    "## Fitting the model"
   ]
  },
  {
   "cell_type": "markdown",
   "metadata": {},
   "source": [
    "Import and init the Model"
   ]
  },
  {
   "cell_type": "code",
   "execution_count": null,
   "metadata": {},
   "outputs": [],
   "source": [
    "from pymsm.multi_state_competing_risks_model import MultiStateModel\n",
    "multi_state_model = MultiStateModel(dataset, terminal_states, default_update_covariates_function, \n",
    "                                    ['covariate_1', 'covariate_2'])"
   ]
  },
  {
   "cell_type": "markdown",
   "metadata": {},
   "source": [
    "Fit the Model"
   ]
  },
  {
   "cell_type": "code",
   "execution_count": null,
   "metadata": {},
   "outputs": [],
   "source": [
    "multi_state_model.fit()"
   ]
  },
  {
   "cell_type": "markdown",
   "metadata": {},
   "source": [
    "## Making predictions  \n",
    "\n",
    "Predictions are done via monte carlo simulation. Initial patient covariates, along with the patient’s current state are supplied. The next states are sequentially sampled via the model parameters. The process concludes when the patient arrives at a terminal state or the number of transitions exceeds the specified maximum."
   ]
  },
  {
   "cell_type": "code",
   "execution_count": null,
   "metadata": {},
   "outputs": [],
   "source": [
    "import numpy as np\n",
    "\n",
    "all_mcs = multi_state_model.run_monte_carlo_simulation(\n",
    "              # the current covariates of the patient. \n",
    "              # especially important to use updated covariates in case of\n",
    "              # time varying covariates along with a prediction from a point in time \n",
    "              # during hospitalization\n",
    "              sample_covariates = np.array([0.2,-0.3]), \n",
    "              \n",
    "              # in this setting samples start at state 1, but\n",
    "              # in general this can be any non-terminal state which\n",
    "              # then serves as the simulation starting point\n",
    "              origin_state = 1, \n",
    "              \n",
    "              # in this setting we start predictions from time 0, but \n",
    "              # predictions can be made from any point in time during the \n",
    "              # patient's trajectory\n",
    "              current_time = 0,   \n",
    "              \n",
    "              # If there is an observed upper limit on the number of transitions, we recommend\n",
    "              # setting this value to that limit in order to prevent generation of outlier paths\n",
    "              max_transitions = 100,\n",
    "              \n",
    "              # the number of paths to simulate:\n",
    "              n_random_samples = 1000)"
   ]
  },
  {
   "cell_type": "markdown",
   "metadata": {},
   "source": [
    "## The Simulation Results Format:  \n",
    "\n",
    "Each run is described by a list of states and times spent at each state (same format as the dataset the model is fit to)."
   ]
  },
  {
   "cell_type": "code",
   "execution_count": null,
   "metadata": {},
   "outputs": [],
   "source": [
    "mc = all_mcs[0]\n",
    "print(mc.states)\n",
    "print(mc.time_at_each_state)\n",
    "\n",
    "mc = all_mcs[1]\n",
    "print(mc.states)\n",
    "print(mc.time_at_each_state)"
   ]
  },
  {
   "cell_type": "markdown",
   "metadata": {},
   "source": [
    "## Analyzing The Results  \n",
    "\n",
    "Recall we could compute the expected time for this simple setting? We will now see that the model provides an accurate estimate of this expected value of $1+\\frac{1}{\\lambda}$"
   ]
  },
  {
   "cell_type": "code",
   "execution_count": null,
   "metadata": {},
   "outputs": [],
   "source": [
    "from pymsm.examples.first_example_utils import plot_total_time_until_terminal_state\n",
    "\n",
    "plot_total_time_until_terminal_state(all_mcs, true_lambda=2)"
   ]
  },
  {
   "cell_type": "markdown",
   "metadata": {},
   "source": [
    "## Conclusions"
   ]
  },
  {
   "cell_type": "markdown",
   "metadata": {},
   "source": [
    "This notebook provides a simple example usage of the multi-state model, beginning with the structure of the dataset used to fit the model and up to a simple analysis of the model’s predictions.\n",
    "\n",
    "By following this process you can fit the model to any such dataset and make predictions"
   ]
  },
  {
   "cell_type": "markdown",
   "metadata": {},
   "source": [
    "## Appendix 1 - Demonstrating that the expected time until reaching the terminal state is $1+\\frac{1}{λ}$"
   ]
  },
  {
   "cell_type": "markdown",
   "metadata": {},
   "source": [
    "Let T be the random variable denoting the time until reaching the terminal state #3, and let $S2$ be the random variable denoting the second state visited by the sample (recall all patients start at state 1, that is: $S1=1$).\n",
    "From the law of total expectation:"
   ]
  },
  {
   "cell_type": "markdown",
   "metadata": {},
   "source": [
    "\\begin{equation}\n",
    "\\mathbf{E}[T] = \\mathbf{E}[\\mathbf{E}[T|S_2]] = \\mathbf{P}(S_2 = 3)\\cdot\\mathbf{E}[T|S_2 = 3] + \\mathbf{P}(S_2 = 2)\\cdot\\mathbf{E}[T|S_2 = 2]\n",
    "\\end{equation}"
   ]
  },
  {
   "cell_type": "markdown",
   "metadata": {},
   "source": [
    "Denote $T=T_1+T_{2^+}$ (“The total time is the sum of the time of the first transition plus the time from arrival to the second state onwards”). Then:"
   ]
  },
  {
   "cell_type": "markdown",
   "metadata": {},
   "source": [
    "\\begin{equation}\n",
    "=\\frac{1}{2}\\cdot1 + \\frac{1}{2}\\cdot\\mathbf{E}[T_1 + T_{2^+}|S_2 = 2] = \\frac{1}{2}+\\frac{1}{2}\\cdot(\\mathbf{E}[T_1|S_2 = 2] + \\mathbf{E}[T_{2^+}]|S_2 = 2) \\\\= \\frac{1}{2}\\cdot1 + \\frac{1}{2}\\cdot(\\frac{1}{λ}+\\mathbf{E}[T])\n",
    "\\end{equation}"
   ]
  },
  {
   "cell_type": "markdown",
   "metadata": {},
   "source": [
    "We then have:"
   ]
  },
  {
   "cell_type": "markdown",
   "metadata": {},
   "source": [
    "\\begin{equation}\n",
    "2\\cdot\\mathbf{E}[T] = 1 + (\\frac{1}{λ} + \\mathbf{E}[T])\n",
    "\\end{equation}"
   ]
  },
  {
   "cell_type": "markdown",
   "metadata": {},
   "source": [
    "and:"
   ]
  },
  {
   "cell_type": "markdown",
   "metadata": {},
   "source": [
    "\\begin{equation}\n",
    "{E}[T] = 1 + \\frac{1}{λ}\n",
    "\\end{equation}"
   ]
  }
 ],
 "metadata": {
  "kernelspec": {
   "display_name": "Python 3 (ipykernel)",
   "language": "python",
   "name": "python3"
  },
  "language_info": {
   "codemirror_mode": {
    "name": "ipython",
    "version": 3
   },
   "file_extension": ".py",
   "mimetype": "text/x-python",
   "name": "python",
   "nbconvert_exporter": "python",
   "pygments_lexer": "ipython3",
   "version": "3.9.7"
  }
 },
 "nbformat": 4,
 "nbformat_minor": 4
}
